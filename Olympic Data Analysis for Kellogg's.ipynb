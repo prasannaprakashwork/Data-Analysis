{
 "cells": [
  {
   "cell_type": "markdown",
   "metadata": {
    "id": "dRmRMAcVa0iC"
   },
   "source": [
    "          \n",
    "#         DATA BASED RECOMMENDATION FOR OLYMPIC SPONSORSHIP TO KELLOGG'S\n",
    "\n",
    "\n",
    "\n",
    "\n",
    "> Kellogg's will be one of the main sponsors of the next Olympic games. They tasked us with an analysis of the athletes to select the right sport and athlete to sponsor.\n",
    "\n",
    "\n",
    "\n",
    "\n",
    "\n",
    "\n",
    "\n",
    "\n",
    "\n",
    "\n",
    "---\n",
    "\n",
    "\n",
    "\n",
    "\n",
    "\n",
    "\n",
    "\n"
   ]
  },
  {
   "cell_type": "markdown",
   "metadata": {
    "id": "fNLiRcIJw5Mw"
   },
   "source": [
    "#OBJECTIVE:\n",
    "The primary objective of this project is to conduct a comprehensive analysis of historical Olympic data to assist Kellogg's in selecting the most suitable sport and athlete for sponsorship in the upcoming Olympic Games. Kellogg's is a renowned multinational food company specializing in breakfast cereals and other food products. It aims to maximize the impact of its sponsorship investment by aligning with a sport and athlete who not only have a significant presence on the global Olympic stage but also share values and characteristics that resonate with the brand's target audience. By harnessing the power of data analytics, this project aims to identify athletes with an impressive track record of success, thereby ensuring that Kellogg's sponsorship not only contributes to their marketing goals but also supports athletes' aspirations in achieving further success.\n",
    "\n",
    "To achieve this objective, we will begin by collecting and cleaning historical Olympic data, which includes information on athletes, sports, and medal counts from various Olympic Games. We will then leverage the R programming language to perform data analysis and statistical modeling. One of the key metrics we will focus on is the total number of medals won by each athlete. By identifying athletes with the highest number of medals across different sports, we can pinpoint those who have consistently excelled on the Olympic stage, making them strong candidates for sponsorship consideration.\n",
    "\n",
    "Based on the analysis of historical Olympic data, this project will conclude by providing Kellogg's with actionable recommendations and strategic insights. We will present a shortlist of athletes who meet the criteria of high medal counts and Olympic prominence. By offering a comprehensive evaluation, we will empower Kellogg's to make an informed decision regarding their sponsorship, ensuring a mutually beneficial partnership that resonates with the global audience and elevates both the brand and the chosen athlete during the next Olympic Games."
   ]
  },
  {
   "cell_type": "markdown",
   "metadata": {
    "id": "ZR7usyszwCdn"
   },
   "source": [
    "installtion of libraries needed"
   ]
  },
  {
   "cell_type": "code",
   "execution_count": null,
   "metadata": {
    "colab": {
     "base_uri": "https://localhost:8080/"
    },
    "id": "PsE21k3wwVOZ",
    "outputId": "af7ae728-4705-49bf-f734-d55262d3f9a2"
   },
   "outputs": [
    {
     "name": "stderr",
     "output_type": "stream",
     "text": [
      "\n",
      "Attaching package: ‘dplyr’\n",
      "\n",
      "\n",
      "The following objects are masked from ‘package:stats’:\n",
      "\n",
      "    filter, lag\n",
      "\n",
      "\n",
      "The following objects are masked from ‘package:base’:\n",
      "\n",
      "    intersect, setdiff, setequal, union\n",
      "\n",
      "\n",
      "── \u001b[1mAttaching core tidyverse packages\u001b[22m ──────────────────────── tidyverse 2.0.0 ──\n",
      "\u001b[32m✔\u001b[39m \u001b[34mforcats  \u001b[39m 1.0.0     \u001b[32m✔\u001b[39m \u001b[34mstringr  \u001b[39m 1.5.0\n",
      "\u001b[32m✔\u001b[39m \u001b[34mlubridate\u001b[39m 1.9.2     \u001b[32m✔\u001b[39m \u001b[34mtibble   \u001b[39m 3.2.1\n",
      "\u001b[32m✔\u001b[39m \u001b[34mpurrr    \u001b[39m 1.0.2     \u001b[32m✔\u001b[39m \u001b[34mtidyr    \u001b[39m 1.3.0\n",
      "\u001b[32m✔\u001b[39m \u001b[34mreadr    \u001b[39m 2.1.4     \n",
      "── \u001b[1mConflicts\u001b[22m ────────────────────────────────────────── tidyverse_conflicts() ──\n",
      "\u001b[31m✖\u001b[39m \u001b[34mdplyr\u001b[39m::\u001b[32mfilter()\u001b[39m masks \u001b[34mstats\u001b[39m::filter()\n",
      "\u001b[31m✖\u001b[39m \u001b[34mdplyr\u001b[39m::\u001b[32mlag()\u001b[39m    masks \u001b[34mstats\u001b[39m::lag()\n",
      "\u001b[36mℹ\u001b[39m Use the conflicted package (\u001b[3m\u001b[34m<http://conflicted.r-lib.org/>\u001b[39m\u001b[23m) to force all conflicts to become errors\n"
     ]
    }
   ],
   "source": [
    "library(dplyr)\n",
    "library(ggplot2)\n",
    "library(tidyverse)"
   ]
  },
  {
   "cell_type": "markdown",
   "metadata": {
    "id": "ULhK9ZVr2ifU"
   },
   "source": [
    "#1. Data Exploration\n"
   ]
  },
  {
   "cell_type": "markdown",
   "metadata": {
    "id": "hdiUK0E2wkXH"
   },
   "source": [
    "1.1 loading the data sets as df1 (contains main data) & df2(contains full names of region/countries for short forms used in df1) and merging them together to create data frame named 'data'"
   ]
  },
  {
   "cell_type": "code",
   "execution_count": null,
   "metadata": {
    "colab": {
     "base_uri": "https://localhost:8080/",
     "height": 192
    },
    "id": "hijfH-Y3X343",
    "outputId": "dfe3a9c9-bf81-4af5-f9e7-fe6ada08f20c"
   },
   "outputs": [
    {
     "data": {
      "text/html": [
       "<table class=\"dataframe\">\n",
       "<caption>A data.frame: 3 × 15</caption>\n",
       "<thead>\n",
       "\t<tr><th></th><th scope=col>ID</th><th scope=col>Name</th><th scope=col>Sex</th><th scope=col>Age</th><th scope=col>Height</th><th scope=col>Weight</th><th scope=col>Team</th><th scope=col>NOC</th><th scope=col>Games</th><th scope=col>Year</th><th scope=col>Season</th><th scope=col>City</th><th scope=col>Sport</th><th scope=col>Event</th><th scope=col>Medal</th></tr>\n",
       "\t<tr><th></th><th scope=col>&lt;int&gt;</th><th scope=col>&lt;chr&gt;</th><th scope=col>&lt;chr&gt;</th><th scope=col>&lt;int&gt;</th><th scope=col>&lt;int&gt;</th><th scope=col>&lt;dbl&gt;</th><th scope=col>&lt;chr&gt;</th><th scope=col>&lt;chr&gt;</th><th scope=col>&lt;chr&gt;</th><th scope=col>&lt;int&gt;</th><th scope=col>&lt;chr&gt;</th><th scope=col>&lt;chr&gt;</th><th scope=col>&lt;chr&gt;</th><th scope=col>&lt;chr&gt;</th><th scope=col>&lt;chr&gt;</th></tr>\n",
       "</thead>\n",
       "<tbody>\n",
       "\t<tr><th scope=row>1</th><td>1</td><td>A Dijiang          </td><td>M</td><td>24</td><td>180</td><td>80</td><td>China  </td><td>CHN</td><td>1992 Summer</td><td>1992</td><td>Summer</td><td>Barcelona</td><td>Basketball</td><td>Basketball Men's Basketball </td><td>NA</td></tr>\n",
       "\t<tr><th scope=row>2</th><td>2</td><td>A Lamusi           </td><td>M</td><td>23</td><td>170</td><td>60</td><td>China  </td><td>CHN</td><td>2012 Summer</td><td>2012</td><td>Summer</td><td>London   </td><td>Judo      </td><td>Judo Men's Extra-Lightweight</td><td>NA</td></tr>\n",
       "\t<tr><th scope=row>3</th><td>3</td><td>Gunnar Nielsen Aaby</td><td>M</td><td>24</td><td> NA</td><td>NA</td><td>Denmark</td><td>DEN</td><td>1920 Summer</td><td>1920</td><td>Summer</td><td>Antwerpen</td><td>Football  </td><td>Football Men's Football     </td><td>NA</td></tr>\n",
       "</tbody>\n",
       "</table>\n"
      ],
      "text/latex": [
       "A data.frame: 3 × 15\n",
       "\\begin{tabular}{r|lllllllllllllll}\n",
       "  & ID & Name & Sex & Age & Height & Weight & Team & NOC & Games & Year & Season & City & Sport & Event & Medal\\\\\n",
       "  & <int> & <chr> & <chr> & <int> & <int> & <dbl> & <chr> & <chr> & <chr> & <int> & <chr> & <chr> & <chr> & <chr> & <chr>\\\\\n",
       "\\hline\n",
       "\t1 & 1 & A Dijiang           & M & 24 & 180 & 80 & China   & CHN & 1992 Summer & 1992 & Summer & Barcelona & Basketball & Basketball Men's Basketball  & NA\\\\\n",
       "\t2 & 2 & A Lamusi            & M & 23 & 170 & 60 & China   & CHN & 2012 Summer & 2012 & Summer & London    & Judo       & Judo Men's Extra-Lightweight & NA\\\\\n",
       "\t3 & 3 & Gunnar Nielsen Aaby & M & 24 &  NA & NA & Denmark & DEN & 1920 Summer & 1920 & Summer & Antwerpen & Football   & Football Men's Football      & NA\\\\\n",
       "\\end{tabular}\n"
      ],
      "text/markdown": [
       "\n",
       "A data.frame: 3 × 15\n",
       "\n",
       "| <!--/--> | ID &lt;int&gt; | Name &lt;chr&gt; | Sex &lt;chr&gt; | Age &lt;int&gt; | Height &lt;int&gt; | Weight &lt;dbl&gt; | Team &lt;chr&gt; | NOC &lt;chr&gt; | Games &lt;chr&gt; | Year &lt;int&gt; | Season &lt;chr&gt; | City &lt;chr&gt; | Sport &lt;chr&gt; | Event &lt;chr&gt; | Medal &lt;chr&gt; |\n",
       "|---|---|---|---|---|---|---|---|---|---|---|---|---|---|---|---|\n",
       "| 1 | 1 | A Dijiang           | M | 24 | 180 | 80 | China   | CHN | 1992 Summer | 1992 | Summer | Barcelona | Basketball | Basketball Men's Basketball  | NA |\n",
       "| 2 | 2 | A Lamusi            | M | 23 | 170 | 60 | China   | CHN | 2012 Summer | 2012 | Summer | London    | Judo       | Judo Men's Extra-Lightweight | NA |\n",
       "| 3 | 3 | Gunnar Nielsen Aaby | M | 24 |  NA | NA | Denmark | DEN | 1920 Summer | 1920 | Summer | Antwerpen | Football   | Football Men's Football      | NA |\n",
       "\n"
      ],
      "text/plain": [
       "  ID Name                Sex Age Height Weight Team    NOC Games       Year\n",
       "1 1  A Dijiang           M   24  180    80     China   CHN 1992 Summer 1992\n",
       "2 2  A Lamusi            M   23  170    60     China   CHN 2012 Summer 2012\n",
       "3 3  Gunnar Nielsen Aaby M   24   NA    NA     Denmark DEN 1920 Summer 1920\n",
       "  Season City      Sport      Event                        Medal\n",
       "1 Summer Barcelona Basketball Basketball Men's Basketball  NA   \n",
       "2 Summer London    Judo       Judo Men's Extra-Lightweight NA   \n",
       "3 Summer Antwerpen Football   Football Men's Football      NA   "
      ]
     },
     "metadata": {},
     "output_type": "display_data"
    }
   ],
   "source": [
    "df1 <- read.csv(\"/content/OLYMPICS.csv\")\n",
    "head(df1,3)"
   ]
  },
  {
   "cell_type": "code",
   "execution_count": null,
   "metadata": {
    "colab": {
     "base_uri": "https://localhost:8080/",
     "height": 192
    },
    "id": "kulcScMjQknn",
    "outputId": "00a468d8-6ddc-4d43-dc98-101bb92e3aea"
   },
   "outputs": [
    {
     "data": {
      "text/html": [
       "<table class=\"dataframe\">\n",
       "<caption>A data.frame: 3 × 3</caption>\n",
       "<thead>\n",
       "\t<tr><th></th><th scope=col>NOC</th><th scope=col>region</th><th scope=col>notes</th></tr>\n",
       "\t<tr><th></th><th scope=col>&lt;chr&gt;</th><th scope=col>&lt;chr&gt;</th><th scope=col>&lt;chr&gt;</th></tr>\n",
       "</thead>\n",
       "<tbody>\n",
       "\t<tr><th scope=row>1</th><td>AFG</td><td>Afghanistan</td><td>                    </td></tr>\n",
       "\t<tr><th scope=row>2</th><td>AHO</td><td>Curacao    </td><td>Netherlands Antilles</td></tr>\n",
       "\t<tr><th scope=row>3</th><td>ALB</td><td>Albania    </td><td>                    </td></tr>\n",
       "</tbody>\n",
       "</table>\n"
      ],
      "text/latex": [
       "A data.frame: 3 × 3\n",
       "\\begin{tabular}{r|lll}\n",
       "  & NOC & region & notes\\\\\n",
       "  & <chr> & <chr> & <chr>\\\\\n",
       "\\hline\n",
       "\t1 & AFG & Afghanistan &                     \\\\\n",
       "\t2 & AHO & Curacao     & Netherlands Antilles\\\\\n",
       "\t3 & ALB & Albania     &                     \\\\\n",
       "\\end{tabular}\n"
      ],
      "text/markdown": [
       "\n",
       "A data.frame: 3 × 3\n",
       "\n",
       "| <!--/--> | NOC &lt;chr&gt; | region &lt;chr&gt; | notes &lt;chr&gt; |\n",
       "|---|---|---|---|\n",
       "| 1 | AFG | Afghanistan | <!----> |\n",
       "| 2 | AHO | Curacao     | Netherlands Antilles |\n",
       "| 3 | ALB | Albania     | <!----> |\n",
       "\n"
      ],
      "text/plain": [
       "  NOC region      notes               \n",
       "1 AFG Afghanistan                     \n",
       "2 AHO Curacao     Netherlands Antilles\n",
       "3 ALB Albania                         "
      ]
     },
     "metadata": {},
     "output_type": "display_data"
    }
   ],
   "source": [
    "df2 <- read.csv(\"/content/noc_regions.csv\")\n",
    "head(df2,3)"
   ]
  },
  {
   "cell_type": "code",
   "execution_count": null,
   "metadata": {
    "colab": {
     "base_uri": "https://localhost:8080/",
     "height": 261
    },
    "id": "0Jz3KXhhRc2D",
    "outputId": "cb3d9c55-bb6e-49b1-dc6a-a89e247fe22a"
   },
   "outputs": [
    {
     "data": {
      "text/html": [
       "<table class=\"dataframe\">\n",
       "<caption>A data.frame: 3 × 17</caption>\n",
       "<thead>\n",
       "\t<tr><th></th><th scope=col>NOC</th><th scope=col>ID</th><th scope=col>Name</th><th scope=col>Sex</th><th scope=col>Age</th><th scope=col>Height</th><th scope=col>Weight</th><th scope=col>Team</th><th scope=col>Games</th><th scope=col>Year</th><th scope=col>Season</th><th scope=col>City</th><th scope=col>Sport</th><th scope=col>Event</th><th scope=col>Medal</th><th scope=col>region</th><th scope=col>notes</th></tr>\n",
       "\t<tr><th></th><th scope=col>&lt;chr&gt;</th><th scope=col>&lt;int&gt;</th><th scope=col>&lt;chr&gt;</th><th scope=col>&lt;chr&gt;</th><th scope=col>&lt;int&gt;</th><th scope=col>&lt;int&gt;</th><th scope=col>&lt;dbl&gt;</th><th scope=col>&lt;chr&gt;</th><th scope=col>&lt;chr&gt;</th><th scope=col>&lt;int&gt;</th><th scope=col>&lt;chr&gt;</th><th scope=col>&lt;chr&gt;</th><th scope=col>&lt;chr&gt;</th><th scope=col>&lt;chr&gt;</th><th scope=col>&lt;chr&gt;</th><th scope=col>&lt;chr&gt;</th><th scope=col>&lt;chr&gt;</th></tr>\n",
       "</thead>\n",
       "<tbody>\n",
       "\t<tr><th scope=row>1</th><td>AFG</td><td>132181</td><td>Najam Yahya          </td><td>M</td><td>NA</td><td> NA</td><td>NA</td><td>Afghanistan</td><td>1956 Summer</td><td>1956</td><td>Summer</td><td>Melbourne</td><td>Hockey   </td><td>Hockey Men's Hockey                    </td><td>NA</td><td>Afghanistan</td><td></td></tr>\n",
       "\t<tr><th scope=row>2</th><td>AFG</td><td> 87371</td><td>Ahmad Jahan Nuristani</td><td>M</td><td>NA</td><td> NA</td><td>NA</td><td>Afghanistan</td><td>1948 Summer</td><td>1948</td><td>Summer</td><td>London   </td><td>Hockey   </td><td>Hockey Men's Hockey                    </td><td>NA</td><td>Afghanistan</td><td></td></tr>\n",
       "\t<tr><th scope=row>3</th><td>AFG</td><td> 44977</td><td>Mohammad Halilula    </td><td>M</td><td>28</td><td>163</td><td>57</td><td>Afghanistan</td><td>1980 Summer</td><td>1980</td><td>Summer</td><td>Moskva   </td><td>Wrestling</td><td>Wrestling Men's Bantamweight, Freestyle</td><td>NA</td><td>Afghanistan</td><td></td></tr>\n",
       "</tbody>\n",
       "</table>\n"
      ],
      "text/latex": [
       "A data.frame: 3 × 17\n",
       "\\begin{tabular}{r|lllllllllllllllll}\n",
       "  & NOC & ID & Name & Sex & Age & Height & Weight & Team & Games & Year & Season & City & Sport & Event & Medal & region & notes\\\\\n",
       "  & <chr> & <int> & <chr> & <chr> & <int> & <int> & <dbl> & <chr> & <chr> & <int> & <chr> & <chr> & <chr> & <chr> & <chr> & <chr> & <chr>\\\\\n",
       "\\hline\n",
       "\t1 & AFG & 132181 & Najam Yahya           & M & NA &  NA & NA & Afghanistan & 1956 Summer & 1956 & Summer & Melbourne & Hockey    & Hockey Men's Hockey                     & NA & Afghanistan & \\\\\n",
       "\t2 & AFG &  87371 & Ahmad Jahan Nuristani & M & NA &  NA & NA & Afghanistan & 1948 Summer & 1948 & Summer & London    & Hockey    & Hockey Men's Hockey                     & NA & Afghanistan & \\\\\n",
       "\t3 & AFG &  44977 & Mohammad Halilula     & M & 28 & 163 & 57 & Afghanistan & 1980 Summer & 1980 & Summer & Moskva    & Wrestling & Wrestling Men's Bantamweight, Freestyle & NA & Afghanistan & \\\\\n",
       "\\end{tabular}\n"
      ],
      "text/markdown": [
       "\n",
       "A data.frame: 3 × 17\n",
       "\n",
       "| <!--/--> | NOC &lt;chr&gt; | ID &lt;int&gt; | Name &lt;chr&gt; | Sex &lt;chr&gt; | Age &lt;int&gt; | Height &lt;int&gt; | Weight &lt;dbl&gt; | Team &lt;chr&gt; | Games &lt;chr&gt; | Year &lt;int&gt; | Season &lt;chr&gt; | City &lt;chr&gt; | Sport &lt;chr&gt; | Event &lt;chr&gt; | Medal &lt;chr&gt; | region &lt;chr&gt; | notes &lt;chr&gt; |\n",
       "|---|---|---|---|---|---|---|---|---|---|---|---|---|---|---|---|---|---|\n",
       "| 1 | AFG | 132181 | Najam Yahya           | M | NA |  NA | NA | Afghanistan | 1956 Summer | 1956 | Summer | Melbourne | Hockey    | Hockey Men's Hockey                     | NA | Afghanistan | <!----> |\n",
       "| 2 | AFG |  87371 | Ahmad Jahan Nuristani | M | NA |  NA | NA | Afghanistan | 1948 Summer | 1948 | Summer | London    | Hockey    | Hockey Men's Hockey                     | NA | Afghanistan | <!----> |\n",
       "| 3 | AFG |  44977 | Mohammad Halilula     | M | 28 | 163 | 57 | Afghanistan | 1980 Summer | 1980 | Summer | Moskva    | Wrestling | Wrestling Men's Bantamweight, Freestyle | NA | Afghanistan | <!----> |\n",
       "\n"
      ],
      "text/plain": [
       "  NOC ID     Name                  Sex Age Height Weight Team       \n",
       "1 AFG 132181 Najam Yahya           M   NA   NA    NA     Afghanistan\n",
       "2 AFG  87371 Ahmad Jahan Nuristani M   NA   NA    NA     Afghanistan\n",
       "3 AFG  44977 Mohammad Halilula     M   28  163    57     Afghanistan\n",
       "  Games       Year Season City      Sport    \n",
       "1 1956 Summer 1956 Summer Melbourne Hockey   \n",
       "2 1948 Summer 1948 Summer London    Hockey   \n",
       "3 1980 Summer 1980 Summer Moskva    Wrestling\n",
       "  Event                                   Medal region      notes\n",
       "1 Hockey Men's Hockey                     NA    Afghanistan      \n",
       "2 Hockey Men's Hockey                     NA    Afghanistan      \n",
       "3 Wrestling Men's Bantamweight, Freestyle NA    Afghanistan      "
      ]
     },
     "metadata": {},
     "output_type": "display_data"
    }
   ],
   "source": [
    "data <- merge(df1, df2, by=\"NOC\")\n",
    "head(data,3)"
   ]
  },
  {
   "cell_type": "code",
   "execution_count": null,
   "metadata": {
    "id": "XCn4ixQUAjNc"
   },
   "outputs": [],
   "source": []
  },
  {
   "cell_type": "markdown",
   "metadata": {
    "id": "UXk_bsJG8hcn"
   },
   "source": [
    "1.2 Display no of rows & columns in data set"
   ]
  },
  {
   "cell_type": "code",
   "execution_count": null,
   "metadata": {
    "colab": {
     "base_uri": "https://localhost:8080/",
     "height": 34
    },
    "id": "R1Ni6sYS80Ov",
    "outputId": "1f315256-ac26-45a4-c70b-378b965f1d82"
   },
   "outputs": [
    {
     "data": {
      "text/html": [
       "<style>\n",
       ".list-inline {list-style: none; margin:0; padding: 0}\n",
       ".list-inline>li {display: inline-block}\n",
       ".list-inline>li:not(:last-child)::after {content: \"\\00b7\"; padding: 0 .5ex}\n",
       "</style>\n",
       "<ol class=list-inline><li>270767</li><li>17</li></ol>\n"
      ],
      "text/latex": [
       "\\begin{enumerate*}\n",
       "\\item 270767\n",
       "\\item 17\n",
       "\\end{enumerate*}\n"
      ],
      "text/markdown": [
       "1. 270767\n",
       "2. 17\n",
       "\n",
       "\n"
      ],
      "text/plain": [
       "[1] 270767     17"
      ]
     },
     "metadata": {},
     "output_type": "display_data"
    }
   ],
   "source": [
    "dim(data)"
   ]
  },
  {
   "cell_type": "markdown",
   "metadata": {
    "id": "NeSTJlH_-uKf"
   },
   "source": [
    "1.3 Know names of the columns to know attributes of the data"
   ]
  },
  {
   "cell_type": "code",
   "execution_count": null,
   "metadata": {
    "colab": {
     "base_uri": "https://localhost:8080/",
     "height": 34
    },
    "id": "axP7dZI6-s7W",
    "outputId": "4d78699b-baaa-46ba-874e-d81c402c310b"
   },
   "outputs": [
    {
     "data": {
      "text/html": [
       "<style>\n",
       ".list-inline {list-style: none; margin:0; padding: 0}\n",
       ".list-inline>li {display: inline-block}\n",
       ".list-inline>li:not(:last-child)::after {content: \"\\00b7\"; padding: 0 .5ex}\n",
       "</style>\n",
       "<ol class=list-inline><li>'NOC'</li><li>'ID'</li><li>'Name'</li><li>'Sex'</li><li>'Age'</li><li>'Height'</li><li>'Weight'</li><li>'Team'</li><li>'Games'</li><li>'Year'</li><li>'Season'</li><li>'City'</li><li>'Sport'</li><li>'Event'</li><li>'Medal'</li><li>'region'</li><li>'notes'</li></ol>\n"
      ],
      "text/latex": [
       "\\begin{enumerate*}\n",
       "\\item 'NOC'\n",
       "\\item 'ID'\n",
       "\\item 'Name'\n",
       "\\item 'Sex'\n",
       "\\item 'Age'\n",
       "\\item 'Height'\n",
       "\\item 'Weight'\n",
       "\\item 'Team'\n",
       "\\item 'Games'\n",
       "\\item 'Year'\n",
       "\\item 'Season'\n",
       "\\item 'City'\n",
       "\\item 'Sport'\n",
       "\\item 'Event'\n",
       "\\item 'Medal'\n",
       "\\item 'region'\n",
       "\\item 'notes'\n",
       "\\end{enumerate*}\n"
      ],
      "text/markdown": [
       "1. 'NOC'\n",
       "2. 'ID'\n",
       "3. 'Name'\n",
       "4. 'Sex'\n",
       "5. 'Age'\n",
       "6. 'Height'\n",
       "7. 'Weight'\n",
       "8. 'Team'\n",
       "9. 'Games'\n",
       "10. 'Year'\n",
       "11. 'Season'\n",
       "12. 'City'\n",
       "13. 'Sport'\n",
       "14. 'Event'\n",
       "15. 'Medal'\n",
       "16. 'region'\n",
       "17. 'notes'\n",
       "\n",
       "\n"
      ],
      "text/plain": [
       " [1] \"NOC\"    \"ID\"     \"Name\"   \"Sex\"    \"Age\"    \"Height\" \"Weight\" \"Team\"  \n",
       " [9] \"Games\"  \"Year\"   \"Season\" \"City\"   \"Sport\"  \"Event\"  \"Medal\"  \"region\"\n",
       "[17] \"notes\" "
      ]
     },
     "metadata": {},
     "output_type": "display_data"
    }
   ],
   "source": [
    "colnames(data)"
   ]
  },
  {
   "cell_type": "markdown",
   "metadata": {
    "id": "hM5XoPto9DS0"
   },
   "source": [
    "1.4 Calculate  percentiles of numerical values in data set to gain more insight of the data. E.g. mean/median age of athelete"
   ]
  },
  {
   "cell_type": "code",
   "execution_count": null,
   "metadata": {
    "colab": {
     "base_uri": "https://localhost:8080/",
     "height": 711
    },
    "id": "_5Vc0RAq9TBZ",
    "outputId": "1f336b4b-9d50-4577-c297-3414d5065602"
   },
   "outputs": [
    {
     "data": {
      "text/plain": [
       "     NOC                  ID             Name               Sex           \n",
       " Length:270767      Min.   :     1   Length:270767      Length:270767     \n",
       " Class :character   1st Qu.: 34630   Class :character   Class :character  \n",
       " Mode  :character   Median : 68187   Mode  :character   Mode  :character  \n",
       "                    Mean   : 68229                                        \n",
       "                    3rd Qu.:102066                                        \n",
       "                    Max.   :135571                                        \n",
       "                                                                          \n",
       "      Age            Height          Weight           Team          \n",
       " Min.   :10.00   Min.   :127.0   Min.   : 25.00   Length:270767     \n",
       " 1st Qu.:21.00   1st Qu.:168.0   1st Qu.: 60.00   Class :character  \n",
       " Median :24.00   Median :175.0   Median : 70.00   Mode  :character  \n",
       " Mean   :25.56   Mean   :175.3   Mean   : 70.71                     \n",
       " 3rd Qu.:28.00   3rd Qu.:183.0   3rd Qu.: 79.00                     \n",
       " Max.   :97.00   Max.   :226.0   Max.   :214.00                     \n",
       " NA's   :9462    NA's   :60083   NA's   :62785                      \n",
       "    Games                Year         Season              City          \n",
       " Length:270767      Min.   :1896   Length:270767      Length:270767     \n",
       " Class :character   1st Qu.:1960   Class :character   Class :character  \n",
       " Mode  :character   Median :1988   Mode  :character   Mode  :character  \n",
       "                    Mean   :1978                                        \n",
       "                    3rd Qu.:2002                                        \n",
       "                    Max.   :2016                                        \n",
       "                                                                        \n",
       "    Sport              Event              Medal              region         \n",
       " Length:270767      Length:270767      Length:270767      Length:270767     \n",
       " Class :character   Class :character   Class :character   Class :character  \n",
       " Mode  :character   Mode  :character   Mode  :character   Mode  :character  \n",
       "                                                                            \n",
       "                                                                            \n",
       "                                                                            \n",
       "                                                                            \n",
       "    notes          \n",
       " Length:270767     \n",
       " Class :character  \n",
       " Mode  :character  \n",
       "                   \n",
       "                   \n",
       "                   \n",
       "                   "
      ]
     },
     "metadata": {},
     "output_type": "display_data"
    }
   ],
   "source": [
    "summary(data)"
   ]
  },
  {
   "cell_type": "markdown",
   "metadata": {
    "id": "aw4k1wWzKfYF"
   },
   "source": [
    "1.5 Some more information about the data set\n",
    "\n"
   ]
  },
  {
   "cell_type": "code",
   "execution_count": null,
   "metadata": {
    "colab": {
     "base_uri": "https://localhost:8080/"
    },
    "id": "7WU62qr-9Wh6",
    "outputId": "bc56dfd4-4e31-43ba-f2e6-808e7be58c2f"
   },
   "outputs": [
    {
     "name": "stdout",
     "output_type": "stream",
     "text": [
      "Number of Sports: 66 \n"
     ]
    }
   ],
   "source": [
    "sports_names <- unique(data$Sport)\n",
    "cat(\"Number of Sports:\", length(sports_names), \"\\n\")\n"
   ]
  },
  {
   "cell_type": "markdown",
   "metadata": {
    "id": "0820RRgSVoLF"
   },
   "source": [
    "1.6 Confirming the names of medals"
   ]
  },
  {
   "cell_type": "code",
   "execution_count": null,
   "metadata": {
    "colab": {
     "base_uri": "https://localhost:8080/"
    },
    "id": "fvhvjvL2Vo0v",
    "outputId": "33f5d88f-e4ae-4898-bd09-7ab1d6cdf496"
   },
   "outputs": [
    {
     "name": "stdout",
     "output_type": "stream",
     "text": [
      "[1] NA       \"Bronze\" \"Silver\" \"Gold\"  \n"
     ]
    }
   ],
   "source": [
    "medal_names <- unique(data$Medal)\n",
    "print(medal_names)"
   ]
  },
  {
   "cell_type": "markdown",
   "metadata": {
    "id": "cxQ8v632SczN"
   },
   "source": [
    "1.7 To have glimpse of the data for better understanding"
   ]
  },
  {
   "cell_type": "code",
   "execution_count": null,
   "metadata": {
    "colab": {
     "base_uri": "https://localhost:8080/"
    },
    "id": "x7e2T2Fypz-I",
    "outputId": "46e83142-ab02-49d5-cd7b-e3757fa8cb00"
   },
   "outputs": [
    {
     "name": "stdout",
     "output_type": "stream",
     "text": [
      "Rows: 270,767\n",
      "Columns: 17\n",
      "$ NOC    \u001b[3m\u001b[90m<chr>\u001b[39m\u001b[23m \"AFG\", \"AFG\", \"AFG\", \"AFG\", \"AFG\", \"AFG\", \"AFG\", \"AFG\", \"AFG\", …\n",
      "$ ID     \u001b[3m\u001b[90m<int>\u001b[39m\u001b[23m 132181, 87371, 44977, 502, 109153, 29626, 1076, 121376, 80210, …\n",
      "$ Name   \u001b[3m\u001b[90m<chr>\u001b[39m\u001b[23m \"Najam Yahya\", \"Ahmad Jahan Nuristani\", \"Mohammad Halilula\", \"A…\n",
      "$ Sex    \u001b[3m\u001b[90m<chr>\u001b[39m\u001b[23m \"M\", \"M\", \"M\", \"M\", \"M\", \"M\", \"M\", \"M\", \"M\", \"M\", \"M\", \"M\", \"M\"…\n",
      "$ Age    \u001b[3m\u001b[90m<int>\u001b[39m\u001b[23m NA, NA, 28, NA, 24, 28, 28, NA, NA, NA, 34, NA, 20, NA, 20, 25,…\n",
      "$ Height \u001b[3m\u001b[90m<int>\u001b[39m\u001b[23m NA, NA, 163, NA, NA, 168, NA, NA, NA, NA, 168, NA, 178, NA, 178…\n",
      "$ Weight \u001b[3m\u001b[90m<dbl>\u001b[39m\u001b[23m NA, NA, 57, NA, 74, 73, NA, NA, 57, NA, 111, NA, 74, NA, 68, NA…\n",
      "$ Team   \u001b[3m\u001b[90m<chr>\u001b[39m\u001b[23m \"Afghanistan\", \"Afghanistan\", \"Afghanistan\", \"Afghanistan\", \"Af…\n",
      "$ Games  \u001b[3m\u001b[90m<chr>\u001b[39m\u001b[23m \"1956 Summer\", \"1948 Summer\", \"1980 Summer\", \"1956 Summer\", \"19…\n",
      "$ Year   \u001b[3m\u001b[90m<int>\u001b[39m\u001b[23m 1956, 1948, 1980, 1956, 1964, 1960, 1936, 1956, 1972, 1956, 196…\n",
      "$ Season \u001b[3m\u001b[90m<chr>\u001b[39m\u001b[23m \"Summer\", \"Summer\", \"Summer\", \"Summer\", \"Summer\", \"Summer\", \"Su…\n",
      "$ City   \u001b[3m\u001b[90m<chr>\u001b[39m\u001b[23m \"Melbourne\", \"London\", \"Moskva\", \"Melbourne\", \"Tokyo\", \"Roma\", …\n",
      "$ Sport  \u001b[3m\u001b[90m<chr>\u001b[39m\u001b[23m \"Hockey\", \"Hockey\", \"Wrestling\", \"Hockey\", \"Wrestling\", \"Wrestl…\n",
      "$ Event  \u001b[3m\u001b[90m<chr>\u001b[39m\u001b[23m \"Hockey Men's Hockey\", \"Hockey Men's Hockey\", \"Wrestling Men's …\n",
      "$ Medal  \u001b[3m\u001b[90m<chr>\u001b[39m\u001b[23m NA, NA, NA, NA, NA, NA, NA, NA, NA, NA, NA, NA, NA, NA, NA, NA,…\n",
      "$ region \u001b[3m\u001b[90m<chr>\u001b[39m\u001b[23m \"Afghanistan\", \"Afghanistan\", \"Afghanistan\", \"Afghanistan\", \"Af…\n",
      "$ notes  \u001b[3m\u001b[90m<chr>\u001b[39m\u001b[23m \"\", \"\", \"\", \"\", \"\", \"\", \"\", \"\", \"\", \"\", \"\", \"\", \"\", \"\", \"\", \"\",…\n"
     ]
    }
   ],
   "source": [
    "glimpse(data)"
   ]
  },
  {
   "cell_type": "markdown",
   "metadata": {
    "id": "vSKQhzlvKd1j"
   },
   "source": [
    "#2. One Column Selection"
   ]
  },
  {
   "cell_type": "markdown",
   "metadata": {
    "id": "l7qO8zXsZACT"
   },
   "source": [
    "2. We will now look try to find names of the athelets who have won highest number of medals along with their sport & their region\n"
   ]
  },
  {
   "cell_type": "code",
   "execution_count": null,
   "metadata": {
    "colab": {
     "base_uri": "https://localhost:8080/",
     "height": 411
    },
    "id": "x3XuUvHaIDJq",
    "outputId": "ccfb5332-650e-4824-cacb-3abad62dcb92"
   },
   "outputs": [
    {
     "data": {
      "text/html": [
       "<table class=\"dataframe\">\n",
       "<caption>A data.frame: 10 × 4</caption>\n",
       "<thead>\n",
       "\t<tr><th></th><th scope=col>Name</th><th scope=col>Medal</th><th scope=col>region</th><th scope=col>Sport</th></tr>\n",
       "\t<tr><th></th><th scope=col>&lt;chr&gt;</th><th scope=col>&lt;chr&gt;</th><th scope=col>&lt;chr&gt;</th><th scope=col>&lt;chr&gt;</th></tr>\n",
       "</thead>\n",
       "<tbody>\n",
       "\t<tr><th scope=row>1</th><td>Najam Yahya             </td><td>NA</td><td>Afghanistan</td><td>Hockey   </td></tr>\n",
       "\t<tr><th scope=row>2</th><td>Ahmad Jahan Nuristani   </td><td>NA</td><td>Afghanistan</td><td>Hockey   </td></tr>\n",
       "\t<tr><th scope=row>3</th><td>Mohammad Halilula       </td><td>NA</td><td>Afghanistan</td><td>Wrestling</td></tr>\n",
       "\t<tr><th scope=row>4</th><td>Ahmad Shah Abouwi       </td><td>NA</td><td>Afghanistan</td><td>Hockey   </td></tr>\n",
       "\t<tr><th scope=row>5</th><td>Shakar Khan Shakar      </td><td>NA</td><td>Afghanistan</td><td>Wrestling</td></tr>\n",
       "\t<tr><th scope=row>6</th><td>Sultan Mohammad Dost    </td><td>NA</td><td>Afghanistan</td><td>Wrestling</td></tr>\n",
       "\t<tr><th scope=row>7</th><td>Jammal-ud-Din Affendi   </td><td>NA</td><td>Afghanistan</td><td>Hockey   </td></tr>\n",
       "\t<tr><th scope=row>8</th><td>Khan Nasrullah Totakhail</td><td>NA</td><td>Afghanistan</td><td>Hockey   </td></tr>\n",
       "\t<tr><th scope=row>9</th><td>Alam Mir                </td><td>NA</td><td>Afghanistan</td><td>Wrestling</td></tr>\n",
       "\t<tr><th scope=row>10</th><td>Mohammad Amin Nuristani </td><td>NA</td><td>Afghanistan</td><td>Hockey   </td></tr>\n",
       "</tbody>\n",
       "</table>\n"
      ],
      "text/latex": [
       "A data.frame: 10 × 4\n",
       "\\begin{tabular}{r|llll}\n",
       "  & Name & Medal & region & Sport\\\\\n",
       "  & <chr> & <chr> & <chr> & <chr>\\\\\n",
       "\\hline\n",
       "\t1 & Najam Yahya              & NA & Afghanistan & Hockey   \\\\\n",
       "\t2 & Ahmad Jahan Nuristani    & NA & Afghanistan & Hockey   \\\\\n",
       "\t3 & Mohammad Halilula        & NA & Afghanistan & Wrestling\\\\\n",
       "\t4 & Ahmad Shah Abouwi        & NA & Afghanistan & Hockey   \\\\\n",
       "\t5 & Shakar Khan Shakar       & NA & Afghanistan & Wrestling\\\\\n",
       "\t6 & Sultan Mohammad Dost     & NA & Afghanistan & Wrestling\\\\\n",
       "\t7 & Jammal-ud-Din Affendi    & NA & Afghanistan & Hockey   \\\\\n",
       "\t8 & Khan Nasrullah Totakhail & NA & Afghanistan & Hockey   \\\\\n",
       "\t9 & Alam Mir                 & NA & Afghanistan & Wrestling\\\\\n",
       "\t10 & Mohammad Amin Nuristani  & NA & Afghanistan & Hockey   \\\\\n",
       "\\end{tabular}\n"
      ],
      "text/markdown": [
       "\n",
       "A data.frame: 10 × 4\n",
       "\n",
       "| <!--/--> | Name &lt;chr&gt; | Medal &lt;chr&gt; | region &lt;chr&gt; | Sport &lt;chr&gt; |\n",
       "|---|---|---|---|---|\n",
       "| 1 | Najam Yahya              | NA | Afghanistan | Hockey    |\n",
       "| 2 | Ahmad Jahan Nuristani    | NA | Afghanistan | Hockey    |\n",
       "| 3 | Mohammad Halilula        | NA | Afghanistan | Wrestling |\n",
       "| 4 | Ahmad Shah Abouwi        | NA | Afghanistan | Hockey    |\n",
       "| 5 | Shakar Khan Shakar       | NA | Afghanistan | Wrestling |\n",
       "| 6 | Sultan Mohammad Dost     | NA | Afghanistan | Wrestling |\n",
       "| 7 | Jammal-ud-Din Affendi    | NA | Afghanistan | Hockey    |\n",
       "| 8 | Khan Nasrullah Totakhail | NA | Afghanistan | Hockey    |\n",
       "| 9 | Alam Mir                 | NA | Afghanistan | Wrestling |\n",
       "| 10 | Mohammad Amin Nuristani  | NA | Afghanistan | Hockey    |\n",
       "\n"
      ],
      "text/plain": [
       "   Name                     Medal region      Sport    \n",
       "1  Najam Yahya              NA    Afghanistan Hockey   \n",
       "2  Ahmad Jahan Nuristani    NA    Afghanistan Hockey   \n",
       "3  Mohammad Halilula        NA    Afghanistan Wrestling\n",
       "4  Ahmad Shah Abouwi        NA    Afghanistan Hockey   \n",
       "5  Shakar Khan Shakar       NA    Afghanistan Wrestling\n",
       "6  Sultan Mohammad Dost     NA    Afghanistan Wrestling\n",
       "7  Jammal-ud-Din Affendi    NA    Afghanistan Hockey   \n",
       "8  Khan Nasrullah Totakhail NA    Afghanistan Hockey   \n",
       "9  Alam Mir                 NA    Afghanistan Wrestling\n",
       "10 Mohammad Amin Nuristani  NA    Afghanistan Hockey   "
      ]
     },
     "metadata": {},
     "output_type": "display_data"
    }
   ],
   "source": [
    "medals <- data[c(\"Name\",\"Medal\",\"region\",\"Sport\")]\n",
    "head(medals,10)"
   ]
  },
  {
   "cell_type": "code",
   "execution_count": null,
   "metadata": {
    "colab": {
     "base_uri": "https://localhost:8080/",
     "height": 286
    },
    "id": "AVlp5OKEWhiF",
    "outputId": "9770e9b6-268c-475a-c8c9-759076b210f2"
   },
   "outputs": [
    {
     "data": {
      "text/html": [
       "<table class=\"dataframe\">\n",
       "<caption>A data.frame: 6 × 4</caption>\n",
       "<thead>\n",
       "\t<tr><th></th><th scope=col>Name</th><th scope=col>Medal</th><th scope=col>region</th><th scope=col>Sport</th></tr>\n",
       "\t<tr><th></th><th scope=col>&lt;chr&gt;</th><th scope=col>&lt;chr&gt;</th><th scope=col>&lt;chr&gt;</th><th scope=col>&lt;chr&gt;</th></tr>\n",
       "</thead>\n",
       "<tbody>\n",
       "\t<tr><th scope=row>1</th><td>Rohullah Nikpai  </td><td>Bronze</td><td>Afghanistan</td><td>Taekwondo</td></tr>\n",
       "\t<tr><th scope=row>2</th><td>Rohullah Nikpai  </td><td>Bronze</td><td>Afghanistan</td><td>Taekwondo</td></tr>\n",
       "\t<tr><th scope=row>3</th><td>Jan D. Boersma   </td><td>Silver</td><td>Curacao    </td><td>Sailing  </td></tr>\n",
       "\t<tr><th scope=row>4</th><td>Hocine Soltani   </td><td>Bronze</td><td>Algeria    </td><td>Boxing   </td></tr>\n",
       "\t<tr><th scope=row>5</th><td>Taoufik Makhloufi</td><td>Silver</td><td>Algeria    </td><td>Athletics</td></tr>\n",
       "\t<tr><th scope=row>6</th><td>Hassiba Boulmerka</td><td>Gold  </td><td>Algeria    </td><td>Athletics</td></tr>\n",
       "</tbody>\n",
       "</table>\n"
      ],
      "text/latex": [
       "A data.frame: 6 × 4\n",
       "\\begin{tabular}{r|llll}\n",
       "  & Name & Medal & region & Sport\\\\\n",
       "  & <chr> & <chr> & <chr> & <chr>\\\\\n",
       "\\hline\n",
       "\t1 & Rohullah Nikpai   & Bronze & Afghanistan & Taekwondo\\\\\n",
       "\t2 & Rohullah Nikpai   & Bronze & Afghanistan & Taekwondo\\\\\n",
       "\t3 & Jan D. Boersma    & Silver & Curacao     & Sailing  \\\\\n",
       "\t4 & Hocine Soltani    & Bronze & Algeria     & Boxing   \\\\\n",
       "\t5 & Taoufik Makhloufi & Silver & Algeria     & Athletics\\\\\n",
       "\t6 & Hassiba Boulmerka & Gold   & Algeria     & Athletics\\\\\n",
       "\\end{tabular}\n"
      ],
      "text/markdown": [
       "\n",
       "A data.frame: 6 × 4\n",
       "\n",
       "| <!--/--> | Name &lt;chr&gt; | Medal &lt;chr&gt; | region &lt;chr&gt; | Sport &lt;chr&gt; |\n",
       "|---|---|---|---|---|\n",
       "| 1 | Rohullah Nikpai   | Bronze | Afghanistan | Taekwondo |\n",
       "| 2 | Rohullah Nikpai   | Bronze | Afghanistan | Taekwondo |\n",
       "| 3 | Jan D. Boersma    | Silver | Curacao     | Sailing   |\n",
       "| 4 | Hocine Soltani    | Bronze | Algeria     | Boxing    |\n",
       "| 5 | Taoufik Makhloufi | Silver | Algeria     | Athletics |\n",
       "| 6 | Hassiba Boulmerka | Gold   | Algeria     | Athletics |\n",
       "\n"
      ],
      "text/plain": [
       "  Name              Medal  region      Sport    \n",
       "1 Rohullah Nikpai   Bronze Afghanistan Taekwondo\n",
       "2 Rohullah Nikpai   Bronze Afghanistan Taekwondo\n",
       "3 Jan D. Boersma    Silver Curacao     Sailing  \n",
       "4 Hocine Soltani    Bronze Algeria     Boxing   \n",
       "5 Taoufik Makhloufi Silver Algeria     Athletics\n",
       "6 Hassiba Boulmerka Gold   Algeria     Athletics"
      ]
     },
     "metadata": {},
     "output_type": "display_data"
    }
   ],
   "source": [
    "no_of_medals <- medals %>% drop_na(Medal)\n",
    "head(no_of_medals)"
   ]
  },
  {
   "cell_type": "markdown",
   "metadata": {
    "id": "wKwKRbGZPPTS"
   },
   "source": [
    "DELETE :arranging names of the atheletes who have highest medal tally\n"
   ]
  },
  {
   "cell_type": "code",
   "execution_count": null,
   "metadata": {
    "colab": {
     "base_uri": "https://localhost:8080/",
     "height": 760
    },
    "id": "f6Eajvru3eLr",
    "outputId": "c03639ff-8482-4924-c2da-d5697fbf8790"
   },
   "outputs": [
    {
     "name": "stderr",
     "output_type": "stream",
     "text": [
      "\u001b[1m\u001b[22m`summarise()` has grouped output by 'Name', 'region'. You can override using\n",
      "the `.groups` argument.\n"
     ]
    },
    {
     "data": {
      "text/html": [
       "<table class=\"dataframe\">\n",
       "<caption>A grouped_df: 20 × 4</caption>\n",
       "<thead>\n",
       "\t<tr><th scope=col>Name</th><th scope=col>region</th><th scope=col>Sport</th><th scope=col>Total_Medals</th></tr>\n",
       "\t<tr><th scope=col>&lt;chr&gt;</th><th scope=col>&lt;chr&gt;</th><th scope=col>&lt;chr&gt;</th><th scope=col>&lt;int&gt;</th></tr>\n",
       "</thead>\n",
       "<tbody>\n",
       "\t<tr><td>Robert Tait McKenzie                 </td><td>Canada     </td><td>Art Competitions</td><td>58</td></tr>\n",
       "\t<tr><td>Heikki Ilmari Savolainen             </td><td>Finland    </td><td>Gymnastics      </td><td>39</td></tr>\n",
       "\t<tr><td>Joseph \"Josy\" Stoffel                </td><td>Luxembourg </td><td>Gymnastics      </td><td>38</td></tr>\n",
       "\t<tr><td>Ioannis Theofilakis                  </td><td>Greece     </td><td>Shooting        </td><td>36</td></tr>\n",
       "\t<tr><td>Alexandros Theofilakis               </td><td>Greece     </td><td>Shooting        </td><td>32</td></tr>\n",
       "\t<tr><td>Andreas Wecker                       </td><td>Germany    </td><td>Gymnastics      </td><td>32</td></tr>\n",
       "\t<tr><td>Jean Lucien Nicolas Jacoby           </td><td>Luxembourg </td><td>Art Competitions</td><td>32</td></tr>\n",
       "\t<tr><td>Takashi Ono                          </td><td>Japan      </td><td>Gymnastics      </td><td>32</td></tr>\n",
       "\t<tr><td>Alfred August \"Al\" Jochim            </td><td>USA        </td><td>Gymnastics      </td><td>31</td></tr>\n",
       "\t<tr><td>Alfred James Munnings                </td><td>UK         </td><td>Art Competitions</td><td>31</td></tr>\n",
       "\t<tr><td>Johann \"Hans\" Sauter                 </td><td>Austria    </td><td>Gymnastics      </td><td>31</td></tr>\n",
       "\t<tr><td>Michel Mathiot                       </td><td>France     </td><td>Gymnastics      </td><td>31</td></tr>\n",
       "\t<tr><td>Alfrd (Arnold-) Hajs (Guttmann-)     </td><td>Hungary    </td><td>Art Competitions</td><td>30</td></tr>\n",
       "\t<tr><td>Karl Tore William Thoresson          </td><td>Sweden     </td><td>Gymnastics      </td><td>30</td></tr>\n",
       "\t<tr><td>Michael Fred Phelps, II              </td><td>USA        </td><td>Swimming        </td><td>30</td></tr>\n",
       "\t<tr><td>Yordan Yovchev Yovchev               </td><td>Bulgaria   </td><td>Gymnastics      </td><td>30</td></tr>\n",
       "\t<tr><td>Ivan Joseph Martin Osiier            </td><td>Denmark    </td><td>Fencing         </td><td>29</td></tr>\n",
       "\t<tr><td>Adrianus Egbert Willem \"Arie\" de Jong</td><td>Netherlands</td><td>Fencing         </td><td>27</td></tr>\n",
       "\t<tr><td>Miltiades Manno                      </td><td>Hungary    </td><td>Art Competitions</td><td>27</td></tr>\n",
       "\t<tr><td>Fabian Hambchen                      </td><td>Germany    </td><td>Gymnastics      </td><td>26</td></tr>\n",
       "</tbody>\n",
       "</table>\n"
      ],
      "text/latex": [
       "A grouped\\_df: 20 × 4\n",
       "\\begin{tabular}{llll}\n",
       " Name & region & Sport & Total\\_Medals\\\\\n",
       " <chr> & <chr> & <chr> & <int>\\\\\n",
       "\\hline\n",
       "\t Robert Tait McKenzie                  & Canada      & Art Competitions & 58\\\\\n",
       "\t Heikki Ilmari Savolainen              & Finland     & Gymnastics       & 39\\\\\n",
       "\t Joseph \"Josy\" Stoffel                 & Luxembourg  & Gymnastics       & 38\\\\\n",
       "\t Ioannis Theofilakis                   & Greece      & Shooting         & 36\\\\\n",
       "\t Alexandros Theofilakis                & Greece      & Shooting         & 32\\\\\n",
       "\t Andreas Wecker                        & Germany     & Gymnastics       & 32\\\\\n",
       "\t Jean Lucien Nicolas Jacoby            & Luxembourg  & Art Competitions & 32\\\\\n",
       "\t Takashi Ono                           & Japan       & Gymnastics       & 32\\\\\n",
       "\t Alfred August \"Al\" Jochim             & USA         & Gymnastics       & 31\\\\\n",
       "\t Alfred James Munnings                 & UK          & Art Competitions & 31\\\\\n",
       "\t Johann \"Hans\" Sauter                  & Austria     & Gymnastics       & 31\\\\\n",
       "\t Michel Mathiot                        & France      & Gymnastics       & 31\\\\\n",
       "\t Alfrd (Arnold-) Hajs (Guttmann-)      & Hungary     & Art Competitions & 30\\\\\n",
       "\t Karl Tore William Thoresson           & Sweden      & Gymnastics       & 30\\\\\n",
       "\t Michael Fred Phelps, II               & USA         & Swimming         & 30\\\\\n",
       "\t Yordan Yovchev Yovchev                & Bulgaria    & Gymnastics       & 30\\\\\n",
       "\t Ivan Joseph Martin Osiier             & Denmark     & Fencing          & 29\\\\\n",
       "\t Adrianus Egbert Willem \"Arie\" de Jong & Netherlands & Fencing          & 27\\\\\n",
       "\t Miltiades Manno                       & Hungary     & Art Competitions & 27\\\\\n",
       "\t Fabian Hambchen                       & Germany     & Gymnastics       & 26\\\\\n",
       "\\end{tabular}\n"
      ],
      "text/markdown": [
       "\n",
       "A grouped_df: 20 × 4\n",
       "\n",
       "| Name &lt;chr&gt; | region &lt;chr&gt; | Sport &lt;chr&gt; | Total_Medals &lt;int&gt; |\n",
       "|---|---|---|---|\n",
       "| Robert Tait McKenzie                  | Canada      | Art Competitions | 58 |\n",
       "| Heikki Ilmari Savolainen              | Finland     | Gymnastics       | 39 |\n",
       "| Joseph \"Josy\" Stoffel                 | Luxembourg  | Gymnastics       | 38 |\n",
       "| Ioannis Theofilakis                   | Greece      | Shooting         | 36 |\n",
       "| Alexandros Theofilakis                | Greece      | Shooting         | 32 |\n",
       "| Andreas Wecker                        | Germany     | Gymnastics       | 32 |\n",
       "| Jean Lucien Nicolas Jacoby            | Luxembourg  | Art Competitions | 32 |\n",
       "| Takashi Ono                           | Japan       | Gymnastics       | 32 |\n",
       "| Alfred August \"Al\" Jochim             | USA         | Gymnastics       | 31 |\n",
       "| Alfred James Munnings                 | UK          | Art Competitions | 31 |\n",
       "| Johann \"Hans\" Sauter                  | Austria     | Gymnastics       | 31 |\n",
       "| Michel Mathiot                        | France      | Gymnastics       | 31 |\n",
       "| Alfrd (Arnold-) Hajs (Guttmann-)      | Hungary     | Art Competitions | 30 |\n",
       "| Karl Tore William Thoresson           | Sweden      | Gymnastics       | 30 |\n",
       "| Michael Fred Phelps, II               | USA         | Swimming         | 30 |\n",
       "| Yordan Yovchev Yovchev                | Bulgaria    | Gymnastics       | 30 |\n",
       "| Ivan Joseph Martin Osiier             | Denmark     | Fencing          | 29 |\n",
       "| Adrianus Egbert Willem \"Arie\" de Jong | Netherlands | Fencing          | 27 |\n",
       "| Miltiades Manno                       | Hungary     | Art Competitions | 27 |\n",
       "| Fabian Hambchen                       | Germany     | Gymnastics       | 26 |\n",
       "\n"
      ],
      "text/plain": [
       "   Name                                  region      Sport           \n",
       "1  Robert Tait McKenzie                  Canada      Art Competitions\n",
       "2  Heikki Ilmari Savolainen              Finland     Gymnastics      \n",
       "3  Joseph \"Josy\" Stoffel                 Luxembourg  Gymnastics      \n",
       "4  Ioannis Theofilakis                   Greece      Shooting        \n",
       "5  Alexandros Theofilakis                Greece      Shooting        \n",
       "6  Andreas Wecker                        Germany     Gymnastics      \n",
       "7  Jean Lucien Nicolas Jacoby            Luxembourg  Art Competitions\n",
       "8  Takashi Ono                           Japan       Gymnastics      \n",
       "9  Alfred August \"Al\" Jochim             USA         Gymnastics      \n",
       "10 Alfred James Munnings                 UK          Art Competitions\n",
       "11 Johann \"Hans\" Sauter                  Austria     Gymnastics      \n",
       "12 Michel Mathiot                        France      Gymnastics      \n",
       "13 Alfrd (Arnold-) Hajs (Guttmann-)      Hungary     Art Competitions\n",
       "14 Karl Tore William Thoresson           Sweden      Gymnastics      \n",
       "15 Michael Fred Phelps, II               USA         Swimming        \n",
       "16 Yordan Yovchev Yovchev                Bulgaria    Gymnastics      \n",
       "17 Ivan Joseph Martin Osiier             Denmark     Fencing         \n",
       "18 Adrianus Egbert Willem \"Arie\" de Jong Netherlands Fencing         \n",
       "19 Miltiades Manno                       Hungary     Art Competitions\n",
       "20 Fabian Hambchen                       Germany     Gymnastics      \n",
       "   Total_Medals\n",
       "1  58          \n",
       "2  39          \n",
       "3  38          \n",
       "4  36          \n",
       "5  32          \n",
       "6  32          \n",
       "7  32          \n",
       "8  32          \n",
       "9  31          \n",
       "10 31          \n",
       "11 31          \n",
       "12 31          \n",
       "13 30          \n",
       "14 30          \n",
       "15 30          \n",
       "16 30          \n",
       "17 29          \n",
       "18 27          \n",
       "19 27          \n",
       "20 26          "
      ]
     },
     "metadata": {},
     "output_type": "display_data"
    }
   ],
   "source": [
    "medal_total <- medals %>% group_by(Name,region, Sport)%>%summarize(Total_Medals = n())%>%arrange(desc(Total_Medals))%>%head(n=20)\n",
    "\n",
    "head(medal_total,30)"
   ]
  },
  {
   "cell_type": "markdown",
   "metadata": {
    "id": "Xg_CfqR7gTYh"
   },
   "source": [
    "We will also find out top countries with highest no of medals won so far in descending order"
   ]
  },
  {
   "cell_type": "code",
   "execution_count": null,
   "metadata": {
    "colab": {
     "base_uri": "https://localhost:8080/",
     "height": 286
    },
    "id": "bhYzTjab391A",
    "outputId": "ed4686b9-b03f-40b8-915f-ea47bc6821ee"
   },
   "outputs": [
    {
     "data": {
      "text/html": [
       "<table class=\"dataframe\">\n",
       "<caption>A tibble: 6 × 2</caption>\n",
       "<thead>\n",
       "\t<tr><th scope=col>region</th><th scope=col>Medal</th></tr>\n",
       "\t<tr><th scope=col>&lt;chr&gt;</th><th scope=col>&lt;int&gt;</th></tr>\n",
       "</thead>\n",
       "<tbody>\n",
       "\t<tr><td>USA    </td><td>18853</td></tr>\n",
       "\t<tr><td>Germany</td><td>15883</td></tr>\n",
       "\t<tr><td>France </td><td>12758</td></tr>\n",
       "\t<tr><td>UK     </td><td>12256</td></tr>\n",
       "\t<tr><td>Russia </td><td>11692</td></tr>\n",
       "\t<tr><td>Italy  </td><td>10715</td></tr>\n",
       "</tbody>\n",
       "</table>\n"
      ],
      "text/latex": [
       "A tibble: 6 × 2\n",
       "\\begin{tabular}{ll}\n",
       " region & Medal\\\\\n",
       " <chr> & <int>\\\\\n",
       "\\hline\n",
       "\t USA     & 18853\\\\\n",
       "\t Germany & 15883\\\\\n",
       "\t France  & 12758\\\\\n",
       "\t UK      & 12256\\\\\n",
       "\t Russia  & 11692\\\\\n",
       "\t Italy   & 10715\\\\\n",
       "\\end{tabular}\n"
      ],
      "text/markdown": [
       "\n",
       "A tibble: 6 × 2\n",
       "\n",
       "| region &lt;chr&gt; | Medal &lt;int&gt; |\n",
       "|---|---|\n",
       "| USA     | 18853 |\n",
       "| Germany | 15883 |\n",
       "| France  | 12758 |\n",
       "| UK      | 12256 |\n",
       "| Russia  | 11692 |\n",
       "| Italy   | 10715 |\n",
       "\n"
      ],
      "text/plain": [
       "  region  Medal\n",
       "1 USA     18853\n",
       "2 Germany 15883\n",
       "3 France  12758\n",
       "4 UK      12256\n",
       "5 Russia  11692\n",
       "6 Italy   10715"
      ]
     },
     "metadata": {},
     "output_type": "display_data"
    }
   ],
   "source": [
    "\n",
    "medal_total <- medals %>% group_by(region,)%>%summarize(Medal = n())%>%arrange(desc(Medal))%>%head(n=10)\n",
    "\n",
    "head(medal_total)\n"
   ]
  },
  {
   "cell_type": "markdown",
   "metadata": {
    "id": "Az_NTAzYjM-k"
   },
   "source": [
    "Probing the data"
   ]
  },
  {
   "cell_type": "code",
   "execution_count": null,
   "metadata": {
    "colab": {
     "base_uri": "https://localhost:8080/",
     "height": 286
    },
    "id": "fMePmpq3i_gk",
    "outputId": "32c478ab-3654-436c-a17c-b7f25930f1aa"
   },
   "outputs": [
    {
     "data": {
      "text/html": [
       "<table class=\"dataframe\">\n",
       "<caption>A data.frame: 6 × 5</caption>\n",
       "<thead>\n",
       "\t<tr><th></th><th scope=col>region</th><th scope=col>Name</th><th scope=col>Sex</th><th scope=col>Sport</th><th scope=col>Medal</th></tr>\n",
       "\t<tr><th></th><th scope=col>&lt;chr&gt;</th><th scope=col>&lt;chr&gt;</th><th scope=col>&lt;chr&gt;</th><th scope=col>&lt;chr&gt;</th><th scope=col>&lt;chr&gt;</th></tr>\n",
       "</thead>\n",
       "<tbody>\n",
       "\t<tr><th scope=row>1</th><td>Afghanistan</td><td>Rohullah Nikpai  </td><td>M</td><td>Taekwondo</td><td>Bronze</td></tr>\n",
       "\t<tr><th scope=row>2</th><td>Afghanistan</td><td>Rohullah Nikpai  </td><td>M</td><td>Taekwondo</td><td>Bronze</td></tr>\n",
       "\t<tr><th scope=row>3</th><td>Curacao    </td><td>Jan D. Boersma   </td><td>M</td><td>Sailing  </td><td>Silver</td></tr>\n",
       "\t<tr><th scope=row>4</th><td>Algeria    </td><td>Hocine Soltani   </td><td>M</td><td>Boxing   </td><td>Bronze</td></tr>\n",
       "\t<tr><th scope=row>5</th><td>Algeria    </td><td>Taoufik Makhloufi</td><td>M</td><td>Athletics</td><td>Silver</td></tr>\n",
       "\t<tr><th scope=row>6</th><td>Algeria    </td><td>Hassiba Boulmerka</td><td>F</td><td>Athletics</td><td>Gold  </td></tr>\n",
       "</tbody>\n",
       "</table>\n"
      ],
      "text/latex": [
       "A data.frame: 6 × 5\n",
       "\\begin{tabular}{r|lllll}\n",
       "  & region & Name & Sex & Sport & Medal\\\\\n",
       "  & <chr> & <chr> & <chr> & <chr> & <chr>\\\\\n",
       "\\hline\n",
       "\t1 & Afghanistan & Rohullah Nikpai   & M & Taekwondo & Bronze\\\\\n",
       "\t2 & Afghanistan & Rohullah Nikpai   & M & Taekwondo & Bronze\\\\\n",
       "\t3 & Curacao     & Jan D. Boersma    & M & Sailing   & Silver\\\\\n",
       "\t4 & Algeria     & Hocine Soltani    & M & Boxing    & Bronze\\\\\n",
       "\t5 & Algeria     & Taoufik Makhloufi & M & Athletics & Silver\\\\\n",
       "\t6 & Algeria     & Hassiba Boulmerka & F & Athletics & Gold  \\\\\n",
       "\\end{tabular}\n"
      ],
      "text/markdown": [
       "\n",
       "A data.frame: 6 × 5\n",
       "\n",
       "| <!--/--> | region &lt;chr&gt; | Name &lt;chr&gt; | Sex &lt;chr&gt; | Sport &lt;chr&gt; | Medal &lt;chr&gt; |\n",
       "|---|---|---|---|---|---|\n",
       "| 1 | Afghanistan | Rohullah Nikpai   | M | Taekwondo | Bronze |\n",
       "| 2 | Afghanistan | Rohullah Nikpai   | M | Taekwondo | Bronze |\n",
       "| 3 | Curacao     | Jan D. Boersma    | M | Sailing   | Silver |\n",
       "| 4 | Algeria     | Hocine Soltani    | M | Boxing    | Bronze |\n",
       "| 5 | Algeria     | Taoufik Makhloufi | M | Athletics | Silver |\n",
       "| 6 | Algeria     | Hassiba Boulmerka | F | Athletics | Gold   |\n",
       "\n"
      ],
      "text/plain": [
       "  region      Name              Sex Sport     Medal \n",
       "1 Afghanistan Rohullah Nikpai   M   Taekwondo Bronze\n",
       "2 Afghanistan Rohullah Nikpai   M   Taekwondo Bronze\n",
       "3 Curacao     Jan D. Boersma    M   Sailing   Silver\n",
       "4 Algeria     Hocine Soltani    M   Boxing    Bronze\n",
       "5 Algeria     Taoufik Makhloufi M   Athletics Silver\n",
       "6 Algeria     Hassiba Boulmerka F   Athletics Gold  "
      ]
     },
     "metadata": {},
     "output_type": "display_data"
    }
   ],
   "source": [
    "data1 <- data[c('region','Name','Sex','Sport', 'Medal')]|> drop_na(Medal)\n",
    "head(data1)"
   ]
  },
  {
   "cell_type": "code",
   "execution_count": null,
   "metadata": {
    "id": "qE06aRXb5axQ"
   },
   "outputs": [],
   "source": []
  },
  {
   "cell_type": "code",
   "execution_count": null,
   "metadata": {
    "colab": {
     "base_uri": "https://localhost:8080/",
     "height": 1000
    },
    "id": "W0TZyHMR5cWU",
    "outputId": "4618e031-cdd3-4c3c-de63-85e8421b05ae"
   },
   "outputs": [
    {
     "data": {
      "text/html": [
       "<table class=\"dataframe\">\n",
       "<caption>A data.frame: 39774 × 5</caption>\n",
       "<thead>\n",
       "\t<tr><th></th><th scope=col>Sex</th><th scope=col>Age</th><th scope=col>Height</th><th scope=col>Weight</th><th scope=col>Medal</th></tr>\n",
       "\t<tr><th></th><th scope=col>&lt;chr&gt;</th><th scope=col>&lt;int&gt;</th><th scope=col>&lt;int&gt;</th><th scope=col>&lt;dbl&gt;</th><th scope=col>&lt;chr&gt;</th></tr>\n",
       "</thead>\n",
       "<tbody>\n",
       "\t<tr><th scope=row>46</th><td>M</td><td>21</td><td>183</td><td>63</td><td>Bronze</td></tr>\n",
       "\t<tr><th scope=row>115</th><td>M</td><td>25</td><td>183</td><td>63</td><td>Bronze</td></tr>\n",
       "\t<tr><th scope=row>137</th><td>M</td><td>19</td><td> NA</td><td>NA</td><td>Silver</td></tr>\n",
       "\t<tr><th scope=row>276</th><td>M</td><td>19</td><td>165</td><td>60</td><td>Bronze</td></tr>\n",
       "\t<tr><th scope=row>295</th><td>M</td><td>28</td><td>170</td><td>67</td><td>Silver</td></tr>\n",
       "\t<tr><th scope=row>304</th><td>F</td><td>24</td><td>158</td><td>49</td><td>Gold  </td></tr>\n",
       "\t<tr><th scope=row>335</th><td>M</td><td>28</td><td>170</td><td>67</td><td>Silver</td></tr>\n",
       "\t<tr><th scope=row>352</th><td>M</td><td>23</td><td>165</td><td>60</td><td>Gold  </td></tr>\n",
       "\t<tr><th scope=row>415</th><td>M</td><td>24</td><td>170</td><td>67</td><td>Gold  </td></tr>\n",
       "\t<tr><th scope=row>555</th><td>M</td><td>22</td><td>185</td><td>70</td><td>Silver</td></tr>\n",
       "\t<tr><th scope=row>572</th><td>F</td><td>29</td><td>162</td><td>54</td><td>Gold  </td></tr>\n",
       "\t<tr><th scope=row>593</th><td>M</td><td>26</td><td>186</td><td>90</td><td>Silver</td></tr>\n",
       "\t<tr><th scope=row>603</th><td>M</td><td>26</td><td>174</td><td>63</td><td>Bronze</td></tr>\n",
       "\t<tr><th scope=row>632</th><td>F</td><td>23</td><td>155</td><td>52</td><td>Bronze</td></tr>\n",
       "\t<tr><th scope=row>649</th><td>M</td><td>26</td><td>175</td><td>60</td><td>Gold  </td></tr>\n",
       "\t<tr><th scope=row>667</th><td>M</td><td>23</td><td>187</td><td>70</td><td>Bronze</td></tr>\n",
       "\t<tr><th scope=row>671</th><td>M</td><td>22</td><td> NA</td><td>NA</td><td>Bronze</td></tr>\n",
       "\t<tr><th scope=row>681</th><td>M</td><td>24</td><td> NA</td><td>NA</td><td>Bronze</td></tr>\n",
       "\t<tr><th scope=row>765</th><td>M</td><td>23</td><td>189</td><td>70</td><td>Bronze</td></tr>\n",
       "\t<tr><th scope=row>775</th><td>M</td><td>20</td><td>180</td><td>75</td><td>Bronze</td></tr>\n",
       "\t<tr><th scope=row>1398</th><td>M</td><td>30</td><td> NA</td><td>NA</td><td>Silver</td></tr>\n",
       "\t<tr><th scope=row>1401</th><td>M</td><td>28</td><td>188</td><td>84</td><td>Bronze</td></tr>\n",
       "\t<tr><th scope=row>1406</th><td>M</td><td>24</td><td>170</td><td>NA</td><td>Gold  </td></tr>\n",
       "\t<tr><th scope=row>1407</th><td>M</td><td>24</td><td>178</td><td>NA</td><td>Silver</td></tr>\n",
       "\t<tr><th scope=row>1408</th><td>M</td><td>20</td><td>168</td><td>NA</td><td>Gold  </td></tr>\n",
       "\t<tr><th scope=row>1409</th><td>M</td><td>24</td><td>183</td><td>NA</td><td>Gold  </td></tr>\n",
       "\t<tr><th scope=row>1410</th><td>M</td><td>22</td><td> NA</td><td>NA</td><td>Gold  </td></tr>\n",
       "\t<tr><th scope=row>1412</th><td>M</td><td>23</td><td> NA</td><td>NA</td><td>Gold  </td></tr>\n",
       "\t<tr><th scope=row>1414</th><td>M</td><td>24</td><td>188</td><td>NA</td><td>Gold  </td></tr>\n",
       "\t<tr><th scope=row>1418</th><td>M</td><td>26</td><td> NA</td><td>NA</td><td>Gold  </td></tr>\n",
       "\t<tr><th scope=row>⋮</th><td>⋮</td><td>⋮</td><td>⋮</td><td>⋮</td><td>⋮</td></tr>\n",
       "\t<tr><th scope=row>270255</th><td>M</td><td>23</td><td>188</td><td> 90</td><td>Gold  </td></tr>\n",
       "\t<tr><th scope=row>270256</th><td>M</td><td>28</td><td>193</td><td> 93</td><td>Gold  </td></tr>\n",
       "\t<tr><th scope=row>270257</th><td>M</td><td>25</td><td>186</td><td>100</td><td>Gold  </td></tr>\n",
       "\t<tr><th scope=row>270261</th><td>M</td><td>21</td><td>169</td><td> 71</td><td>Gold  </td></tr>\n",
       "\t<tr><th scope=row>270269</th><td>M</td><td>27</td><td>204</td><td>105</td><td>Gold  </td></tr>\n",
       "\t<tr><th scope=row>270271</th><td>M</td><td>24</td><td> NA</td><td> NA</td><td>Silver</td></tr>\n",
       "\t<tr><th scope=row>270312</th><td>M</td><td>27</td><td>183</td><td> 81</td><td>Silver</td></tr>\n",
       "\t<tr><th scope=row>270394</th><td>M</td><td>NA</td><td> NA</td><td> NA</td><td>Bronze</td></tr>\n",
       "\t<tr><th scope=row>270459</th><td>F</td><td>24</td><td>138</td><td> 66</td><td>Gold  </td></tr>\n",
       "\t<tr><th scope=row>270482</th><td>F</td><td>33</td><td>168</td><td> 57</td><td>Gold  </td></tr>\n",
       "\t<tr><th scope=row>270497</th><td>F</td><td>28</td><td>156</td><td> 47</td><td>Gold  </td></tr>\n",
       "\t<tr><th scope=row>270510</th><td>F</td><td>24</td><td>160</td><td> 55</td><td>Gold  </td></tr>\n",
       "\t<tr><th scope=row>270512</th><td>F</td><td>30</td><td>168</td><td> 65</td><td>Gold  </td></tr>\n",
       "\t<tr><th scope=row>270513</th><td>F</td><td>24</td><td>160</td><td> 71</td><td>Gold  </td></tr>\n",
       "\t<tr><th scope=row>270518</th><td>F</td><td>20</td><td>176</td><td> 64</td><td>Gold  </td></tr>\n",
       "\t<tr><th scope=row>270519</th><td>F</td><td>22</td><td>155</td><td> 49</td><td>Gold  </td></tr>\n",
       "\t<tr><th scope=row>270522</th><td>F</td><td>25</td><td>168</td><td> 55</td><td>Gold  </td></tr>\n",
       "\t<tr><th scope=row>270532</th><td>F</td><td>23</td><td>157</td><td> 60</td><td>Gold  </td></tr>\n",
       "\t<tr><th scope=row>270560</th><td>F</td><td>24</td><td>176</td><td> 64</td><td>Silver</td></tr>\n",
       "\t<tr><th scope=row>270562</th><td>F</td><td>35</td><td>160</td><td> 56</td><td>Gold  </td></tr>\n",
       "\t<tr><th scope=row>270568</th><td>F</td><td>26</td><td>150</td><td> 55</td><td>Gold  </td></tr>\n",
       "\t<tr><th scope=row>270573</th><td>F</td><td>24</td><td>176</td><td> 64</td><td>Gold  </td></tr>\n",
       "\t<tr><th scope=row>270589</th><td>F</td><td>33</td><td>168</td><td> 60</td><td>Gold  </td></tr>\n",
       "\t<tr><th scope=row>270590</th><td>F</td><td>20</td><td>176</td><td> 64</td><td>Silver</td></tr>\n",
       "\t<tr><th scope=row>270630</th><td>F</td><td>20</td><td>176</td><td> 64</td><td>Bronze</td></tr>\n",
       "\t<tr><th scope=row>270631</th><td>F</td><td>24</td><td>176</td><td> 64</td><td>Silver</td></tr>\n",
       "\t<tr><th scope=row>270632</th><td>F</td><td>24</td><td>176</td><td> 64</td><td>Silver</td></tr>\n",
       "\t<tr><th scope=row>270691</th><td>F</td><td>24</td><td>165</td><td> 63</td><td>Gold  </td></tr>\n",
       "\t<tr><th scope=row>270730</th><td>F</td><td>26</td><td>172</td><td> 56</td><td>Gold  </td></tr>\n",
       "\t<tr><th scope=row>270740</th><td>F</td><td>25</td><td>170</td><td> 66</td><td>Gold  </td></tr>\n",
       "</tbody>\n",
       "</table>\n"
      ],
      "text/latex": [
       "A data.frame: 39774 × 5\n",
       "\\begin{tabular}{r|lllll}\n",
       "  & Sex & Age & Height & Weight & Medal\\\\\n",
       "  & <chr> & <int> & <int> & <dbl> & <chr>\\\\\n",
       "\\hline\n",
       "\t46 & M & 21 & 183 & 63 & Bronze\\\\\n",
       "\t115 & M & 25 & 183 & 63 & Bronze\\\\\n",
       "\t137 & M & 19 &  NA & NA & Silver\\\\\n",
       "\t276 & M & 19 & 165 & 60 & Bronze\\\\\n",
       "\t295 & M & 28 & 170 & 67 & Silver\\\\\n",
       "\t304 & F & 24 & 158 & 49 & Gold  \\\\\n",
       "\t335 & M & 28 & 170 & 67 & Silver\\\\\n",
       "\t352 & M & 23 & 165 & 60 & Gold  \\\\\n",
       "\t415 & M & 24 & 170 & 67 & Gold  \\\\\n",
       "\t555 & M & 22 & 185 & 70 & Silver\\\\\n",
       "\t572 & F & 29 & 162 & 54 & Gold  \\\\\n",
       "\t593 & M & 26 & 186 & 90 & Silver\\\\\n",
       "\t603 & M & 26 & 174 & 63 & Bronze\\\\\n",
       "\t632 & F & 23 & 155 & 52 & Bronze\\\\\n",
       "\t649 & M & 26 & 175 & 60 & Gold  \\\\\n",
       "\t667 & M & 23 & 187 & 70 & Bronze\\\\\n",
       "\t671 & M & 22 &  NA & NA & Bronze\\\\\n",
       "\t681 & M & 24 &  NA & NA & Bronze\\\\\n",
       "\t765 & M & 23 & 189 & 70 & Bronze\\\\\n",
       "\t775 & M & 20 & 180 & 75 & Bronze\\\\\n",
       "\t1398 & M & 30 &  NA & NA & Silver\\\\\n",
       "\t1401 & M & 28 & 188 & 84 & Bronze\\\\\n",
       "\t1406 & M & 24 & 170 & NA & Gold  \\\\\n",
       "\t1407 & M & 24 & 178 & NA & Silver\\\\\n",
       "\t1408 & M & 20 & 168 & NA & Gold  \\\\\n",
       "\t1409 & M & 24 & 183 & NA & Gold  \\\\\n",
       "\t1410 & M & 22 &  NA & NA & Gold  \\\\\n",
       "\t1412 & M & 23 &  NA & NA & Gold  \\\\\n",
       "\t1414 & M & 24 & 188 & NA & Gold  \\\\\n",
       "\t1418 & M & 26 &  NA & NA & Gold  \\\\\n",
       "\t⋮ & ⋮ & ⋮ & ⋮ & ⋮ & ⋮\\\\\n",
       "\t270255 & M & 23 & 188 &  90 & Gold  \\\\\n",
       "\t270256 & M & 28 & 193 &  93 & Gold  \\\\\n",
       "\t270257 & M & 25 & 186 & 100 & Gold  \\\\\n",
       "\t270261 & M & 21 & 169 &  71 & Gold  \\\\\n",
       "\t270269 & M & 27 & 204 & 105 & Gold  \\\\\n",
       "\t270271 & M & 24 &  NA &  NA & Silver\\\\\n",
       "\t270312 & M & 27 & 183 &  81 & Silver\\\\\n",
       "\t270394 & M & NA &  NA &  NA & Bronze\\\\\n",
       "\t270459 & F & 24 & 138 &  66 & Gold  \\\\\n",
       "\t270482 & F & 33 & 168 &  57 & Gold  \\\\\n",
       "\t270497 & F & 28 & 156 &  47 & Gold  \\\\\n",
       "\t270510 & F & 24 & 160 &  55 & Gold  \\\\\n",
       "\t270512 & F & 30 & 168 &  65 & Gold  \\\\\n",
       "\t270513 & F & 24 & 160 &  71 & Gold  \\\\\n",
       "\t270518 & F & 20 & 176 &  64 & Gold  \\\\\n",
       "\t270519 & F & 22 & 155 &  49 & Gold  \\\\\n",
       "\t270522 & F & 25 & 168 &  55 & Gold  \\\\\n",
       "\t270532 & F & 23 & 157 &  60 & Gold  \\\\\n",
       "\t270560 & F & 24 & 176 &  64 & Silver\\\\\n",
       "\t270562 & F & 35 & 160 &  56 & Gold  \\\\\n",
       "\t270568 & F & 26 & 150 &  55 & Gold  \\\\\n",
       "\t270573 & F & 24 & 176 &  64 & Gold  \\\\\n",
       "\t270589 & F & 33 & 168 &  60 & Gold  \\\\\n",
       "\t270590 & F & 20 & 176 &  64 & Silver\\\\\n",
       "\t270630 & F & 20 & 176 &  64 & Bronze\\\\\n",
       "\t270631 & F & 24 & 176 &  64 & Silver\\\\\n",
       "\t270632 & F & 24 & 176 &  64 & Silver\\\\\n",
       "\t270691 & F & 24 & 165 &  63 & Gold  \\\\\n",
       "\t270730 & F & 26 & 172 &  56 & Gold  \\\\\n",
       "\t270740 & F & 25 & 170 &  66 & Gold  \\\\\n",
       "\\end{tabular}\n"
      ],
      "text/markdown": [
       "\n",
       "A data.frame: 39774 × 5\n",
       "\n",
       "| <!--/--> | Sex &lt;chr&gt; | Age &lt;int&gt; | Height &lt;int&gt; | Weight &lt;dbl&gt; | Medal &lt;chr&gt; |\n",
       "|---|---|---|---|---|---|\n",
       "| 46 | M | 21 | 183 | 63 | Bronze |\n",
       "| 115 | M | 25 | 183 | 63 | Bronze |\n",
       "| 137 | M | 19 |  NA | NA | Silver |\n",
       "| 276 | M | 19 | 165 | 60 | Bronze |\n",
       "| 295 | M | 28 | 170 | 67 | Silver |\n",
       "| 304 | F | 24 | 158 | 49 | Gold   |\n",
       "| 335 | M | 28 | 170 | 67 | Silver |\n",
       "| 352 | M | 23 | 165 | 60 | Gold   |\n",
       "| 415 | M | 24 | 170 | 67 | Gold   |\n",
       "| 555 | M | 22 | 185 | 70 | Silver |\n",
       "| 572 | F | 29 | 162 | 54 | Gold   |\n",
       "| 593 | M | 26 | 186 | 90 | Silver |\n",
       "| 603 | M | 26 | 174 | 63 | Bronze |\n",
       "| 632 | F | 23 | 155 | 52 | Bronze |\n",
       "| 649 | M | 26 | 175 | 60 | Gold   |\n",
       "| 667 | M | 23 | 187 | 70 | Bronze |\n",
       "| 671 | M | 22 |  NA | NA | Bronze |\n",
       "| 681 | M | 24 |  NA | NA | Bronze |\n",
       "| 765 | M | 23 | 189 | 70 | Bronze |\n",
       "| 775 | M | 20 | 180 | 75 | Bronze |\n",
       "| 1398 | M | 30 |  NA | NA | Silver |\n",
       "| 1401 | M | 28 | 188 | 84 | Bronze |\n",
       "| 1406 | M | 24 | 170 | NA | Gold   |\n",
       "| 1407 | M | 24 | 178 | NA | Silver |\n",
       "| 1408 | M | 20 | 168 | NA | Gold   |\n",
       "| 1409 | M | 24 | 183 | NA | Gold   |\n",
       "| 1410 | M | 22 |  NA | NA | Gold   |\n",
       "| 1412 | M | 23 |  NA | NA | Gold   |\n",
       "| 1414 | M | 24 | 188 | NA | Gold   |\n",
       "| 1418 | M | 26 |  NA | NA | Gold   |\n",
       "| ⋮ | ⋮ | ⋮ | ⋮ | ⋮ | ⋮ |\n",
       "| 270255 | M | 23 | 188 |  90 | Gold   |\n",
       "| 270256 | M | 28 | 193 |  93 | Gold   |\n",
       "| 270257 | M | 25 | 186 | 100 | Gold   |\n",
       "| 270261 | M | 21 | 169 |  71 | Gold   |\n",
       "| 270269 | M | 27 | 204 | 105 | Gold   |\n",
       "| 270271 | M | 24 |  NA |  NA | Silver |\n",
       "| 270312 | M | 27 | 183 |  81 | Silver |\n",
       "| 270394 | M | NA |  NA |  NA | Bronze |\n",
       "| 270459 | F | 24 | 138 |  66 | Gold   |\n",
       "| 270482 | F | 33 | 168 |  57 | Gold   |\n",
       "| 270497 | F | 28 | 156 |  47 | Gold   |\n",
       "| 270510 | F | 24 | 160 |  55 | Gold   |\n",
       "| 270512 | F | 30 | 168 |  65 | Gold   |\n",
       "| 270513 | F | 24 | 160 |  71 | Gold   |\n",
       "| 270518 | F | 20 | 176 |  64 | Gold   |\n",
       "| 270519 | F | 22 | 155 |  49 | Gold   |\n",
       "| 270522 | F | 25 | 168 |  55 | Gold   |\n",
       "| 270532 | F | 23 | 157 |  60 | Gold   |\n",
       "| 270560 | F | 24 | 176 |  64 | Silver |\n",
       "| 270562 | F | 35 | 160 |  56 | Gold   |\n",
       "| 270568 | F | 26 | 150 |  55 | Gold   |\n",
       "| 270573 | F | 24 | 176 |  64 | Gold   |\n",
       "| 270589 | F | 33 | 168 |  60 | Gold   |\n",
       "| 270590 | F | 20 | 176 |  64 | Silver |\n",
       "| 270630 | F | 20 | 176 |  64 | Bronze |\n",
       "| 270631 | F | 24 | 176 |  64 | Silver |\n",
       "| 270632 | F | 24 | 176 |  64 | Silver |\n",
       "| 270691 | F | 24 | 165 |  63 | Gold   |\n",
       "| 270730 | F | 26 | 172 |  56 | Gold   |\n",
       "| 270740 | F | 25 | 170 |  66 | Gold   |\n",
       "\n"
      ],
      "text/plain": [
       "       Sex Age Height Weight Medal \n",
       "46     M   21  183    63     Bronze\n",
       "115    M   25  183    63     Bronze\n",
       "137    M   19   NA    NA     Silver\n",
       "276    M   19  165    60     Bronze\n",
       "295    M   28  170    67     Silver\n",
       "304    F   24  158    49     Gold  \n",
       "335    M   28  170    67     Silver\n",
       "352    M   23  165    60     Gold  \n",
       "415    M   24  170    67     Gold  \n",
       "555    M   22  185    70     Silver\n",
       "572    F   29  162    54     Gold  \n",
       "593    M   26  186    90     Silver\n",
       "603    M   26  174    63     Bronze\n",
       "632    F   23  155    52     Bronze\n",
       "649    M   26  175    60     Gold  \n",
       "667    M   23  187    70     Bronze\n",
       "671    M   22   NA    NA     Bronze\n",
       "681    M   24   NA    NA     Bronze\n",
       "765    M   23  189    70     Bronze\n",
       "775    M   20  180    75     Bronze\n",
       "1398   M   30   NA    NA     Silver\n",
       "1401   M   28  188    84     Bronze\n",
       "1406   M   24  170    NA     Gold  \n",
       "1407   M   24  178    NA     Silver\n",
       "1408   M   20  168    NA     Gold  \n",
       "1409   M   24  183    NA     Gold  \n",
       "1410   M   22   NA    NA     Gold  \n",
       "1412   M   23   NA    NA     Gold  \n",
       "1414   M   24  188    NA     Gold  \n",
       "1418   M   26   NA    NA     Gold  \n",
       "⋮      ⋮   ⋮   ⋮      ⋮      ⋮     \n",
       "270255 M   23  188     90    Gold  \n",
       "270256 M   28  193     93    Gold  \n",
       "270257 M   25  186    100    Gold  \n",
       "270261 M   21  169     71    Gold  \n",
       "270269 M   27  204    105    Gold  \n",
       "270271 M   24   NA     NA    Silver\n",
       "270312 M   27  183     81    Silver\n",
       "270394 M   NA   NA     NA    Bronze\n",
       "270459 F   24  138     66    Gold  \n",
       "270482 F   33  168     57    Gold  \n",
       "270497 F   28  156     47    Gold  \n",
       "270510 F   24  160     55    Gold  \n",
       "270512 F   30  168     65    Gold  \n",
       "270513 F   24  160     71    Gold  \n",
       "270518 F   20  176     64    Gold  \n",
       "270519 F   22  155     49    Gold  \n",
       "270522 F   25  168     55    Gold  \n",
       "270532 F   23  157     60    Gold  \n",
       "270560 F   24  176     64    Silver\n",
       "270562 F   35  160     56    Gold  \n",
       "270568 F   26  150     55    Gold  \n",
       "270573 F   24  176     64    Gold  \n",
       "270589 F   33  168     60    Gold  \n",
       "270590 F   20  176     64    Silver\n",
       "270630 F   20  176     64    Bronze\n",
       "270631 F   24  176     64    Silver\n",
       "270632 F   24  176     64    Silver\n",
       "270691 F   24  165     63    Gold  \n",
       "270730 F   26  172     56    Gold  \n",
       "270740 F   25  170     66    Gold  "
      ]
     },
     "metadata": {},
     "output_type": "display_data"
    },
    {
     "data": {
      "text/html": [
       "<table class=\"dataframe\">\n",
       "<caption>A data.frame: 5 × 5</caption>\n",
       "<thead>\n",
       "\t<tr><th></th><th scope=col>Sex</th><th scope=col>Age</th><th scope=col>Height</th><th scope=col>Weight</th><th scope=col>Medal</th></tr>\n",
       "\t<tr><th></th><th scope=col>&lt;chr&gt;</th><th scope=col>&lt;int&gt;</th><th scope=col>&lt;int&gt;</th><th scope=col>&lt;dbl&gt;</th><th scope=col>&lt;chr&gt;</th></tr>\n",
       "</thead>\n",
       "<tbody>\n",
       "\t<tr><th scope=row>1</th><td>M</td><td>21</td><td>183</td><td>63</td><td>Bronze</td></tr>\n",
       "\t<tr><th scope=row>2</th><td>M</td><td>25</td><td>183</td><td>63</td><td>Bronze</td></tr>\n",
       "\t<tr><th scope=row>3</th><td>M</td><td>19</td><td>165</td><td>60</td><td>Bronze</td></tr>\n",
       "\t<tr><th scope=row>4</th><td>M</td><td>28</td><td>170</td><td>67</td><td>Silver</td></tr>\n",
       "\t<tr><th scope=row>5</th><td>F</td><td>24</td><td>158</td><td>49</td><td>Gold  </td></tr>\n",
       "</tbody>\n",
       "</table>\n"
      ],
      "text/latex": [
       "A data.frame: 5 × 5\n",
       "\\begin{tabular}{r|lllll}\n",
       "  & Sex & Age & Height & Weight & Medal\\\\\n",
       "  & <chr> & <int> & <int> & <dbl> & <chr>\\\\\n",
       "\\hline\n",
       "\t1 & M & 21 & 183 & 63 & Bronze\\\\\n",
       "\t2 & M & 25 & 183 & 63 & Bronze\\\\\n",
       "\t3 & M & 19 & 165 & 60 & Bronze\\\\\n",
       "\t4 & M & 28 & 170 & 67 & Silver\\\\\n",
       "\t5 & F & 24 & 158 & 49 & Gold  \\\\\n",
       "\\end{tabular}\n"
      ],
      "text/markdown": [
       "\n",
       "A data.frame: 5 × 5\n",
       "\n",
       "| <!--/--> | Sex &lt;chr&gt; | Age &lt;int&gt; | Height &lt;int&gt; | Weight &lt;dbl&gt; | Medal &lt;chr&gt; |\n",
       "|---|---|---|---|---|---|\n",
       "| 1 | M | 21 | 183 | 63 | Bronze |\n",
       "| 2 | M | 25 | 183 | 63 | Bronze |\n",
       "| 3 | M | 19 | 165 | 60 | Bronze |\n",
       "| 4 | M | 28 | 170 | 67 | Silver |\n",
       "| 5 | F | 24 | 158 | 49 | Gold   |\n",
       "\n"
      ],
      "text/plain": [
       "  Sex Age Height Weight Medal \n",
       "1 M   21  183    63     Bronze\n",
       "2 M   25  183    63     Bronze\n",
       "3 M   19  165    60     Bronze\n",
       "4 M   28  170    67     Silver\n",
       "5 F   24  158    49     Gold  "
      ]
     },
     "metadata": {},
     "output_type": "display_data"
    }
   ],
   "source": [
    "Athelete <- data[c(\"Sex\", \"Age\",\"Height\", \"Weight\",\"Medal\")]\n",
    "#head(Athelete)\n",
    "\n",
    "#Getting data of atheletes which have won the medals by dropping NA values from the Medal column\n",
    "\n",
    "Athelete[!is.na(Athelete$Medal), ]\n",
    "#head(Athelete,5)\n",
    "#summary(Athelete)\n",
    "\n",
    "H_W = Athelete%>% drop_na(\"Height\", \"Weight\", \"Medal\")\n",
    "head(H_W,5)"
   ]
  },
  {
   "cell_type": "code",
   "execution_count": null,
   "metadata": {
    "colab": {
     "base_uri": "https://localhost:8080/",
     "height": 437
    },
    "id": "vyfDWdQB5c6y",
    "outputId": "775d7ea5-f3a5-42e4-a8b0-e04ec38c4075"
   },
   "outputs": [
    {
     "data": {
      "image/png": "[encoded data removed]",
      "text/plain": [
       "plot without title"
      ]
     },
     "metadata": {
      "image/png": {
       "height": 420,
       "width": 420
      }
     },
     "output_type": "display_data"
    }
   ],
   "source": [
    "ggplot(H_W,aes(x=Height,y=Weight,group=Sex))+\n",
    "   geom_point(aes(color=Sex))+\n",
    "   scale_color_manual(values=c('Red','Green'))"
   ]
  },
  {
   "cell_type": "code",
   "execution_count": null,
   "metadata": {
    "colab": {
     "base_uri": "https://localhost:8080/",
     "height": 286
    },
    "id": "SCFXHcBm-TFy",
    "outputId": "4cf54121-9a8a-4ef8-d0b2-d9b85abc1ad8"
   },
   "outputs": [
    {
     "data": {
      "text/html": [
       "<table class=\"dataframe\">\n",
       "<caption>A tibble: 6 × 2</caption>\n",
       "<thead>\n",
       "\t<tr><th scope=col>region</th><th scope=col>Medal</th></tr>\n",
       "\t<tr><th scope=col>&lt;chr&gt;</th><th scope=col>&lt;int&gt;</th></tr>\n",
       "</thead>\n",
       "<tbody>\n",
       "\t<tr><td>USA    </td><td>18853</td></tr>\n",
       "\t<tr><td>Germany</td><td>15883</td></tr>\n",
       "\t<tr><td>France </td><td>12758</td></tr>\n",
       "\t<tr><td>UK     </td><td>12256</td></tr>\n",
       "\t<tr><td>Russia </td><td>11692</td></tr>\n",
       "\t<tr><td>Italy  </td><td>10715</td></tr>\n",
       "</tbody>\n",
       "</table>\n"
      ],
      "text/latex": [
       "A tibble: 6 × 2\n",
       "\\begin{tabular}{ll}\n",
       " region & Medal\\\\\n",
       " <chr> & <int>\\\\\n",
       "\\hline\n",
       "\t USA     & 18853\\\\\n",
       "\t Germany & 15883\\\\\n",
       "\t France  & 12758\\\\\n",
       "\t UK      & 12256\\\\\n",
       "\t Russia  & 11692\\\\\n",
       "\t Italy   & 10715\\\\\n",
       "\\end{tabular}\n"
      ],
      "text/markdown": [
       "\n",
       "A tibble: 6 × 2\n",
       "\n",
       "| region &lt;chr&gt; | Medal &lt;int&gt; |\n",
       "|---|---|\n",
       "| USA     | 18853 |\n",
       "| Germany | 15883 |\n",
       "| France  | 12758 |\n",
       "| UK      | 12256 |\n",
       "| Russia  | 11692 |\n",
       "| Italy   | 10715 |\n",
       "\n"
      ],
      "text/plain": [
       "  region  Medal\n",
       "1 USA     18853\n",
       "2 Germany 15883\n",
       "3 France  12758\n",
       "4 UK      12256\n",
       "5 Russia  11692\n",
       "6 Italy   10715"
      ]
     },
     "metadata": {},
     "output_type": "display_data"
    }
   ],
   "source": [
    "head(medal_total)"
   ]
  },
  {
   "cell_type": "code",
   "execution_count": null,
   "metadata": {
    "colab": {
     "base_uri": "https://localhost:8080/",
     "height": 437
    },
    "id": "WbrjdRYg-SY1",
    "outputId": "4ecbcd39-372a-468d-f059-1f55b1d7b335"
   },
   "outputs": [
    {
     "data": {
      "image/png": "[encoded data removed]",
      "text/plain": [
       "plot without title"
      ]
     },
     "metadata": {
      "image/png": {
       "height": 420,
       "width": 420
      }
     },
     "output_type": "display_data"
    }
   ],
   "source": [
    "#Plotting bar chart for Brazil when it is hosting vs not hosting\n",
    "library(ggplot2)\n",
    "\n",
    "# Create a bar chart using ggplot2\n",
    "ggplot(medal_total, aes(x = region, y = Medal, fill = region)) +\n",
    "  geom_bar(stat = \"identity\") +\n",
    "  labs(title = \"Total Medal\", x = \"region\", y = \"Medal\") +\n",
    "  theme(legend.position = \"none\",\n",
    "                     axis.text = element_text(size = 8,face=\"bold\"),\n",
    "        plot.title = element_text(size=25,face = \"bold\")) +\n",
    "  ggtitle(\"Highest Medals won by country\")\n"
   ]
  },
  {
   "cell_type": "code",
   "execution_count": null,
   "metadata": {
    "colab": {
     "base_uri": "https://localhost:8080/",
     "height": 258
    },
    "id": "bgGF-fBI6Pl-",
    "outputId": "68793243-aaed-4444-e2c9-a5a8b643d713"
   },
   "outputs": [
    {
     "name": "stderr",
     "output_type": "stream",
     "text": [
      "\u001b[1m\u001b[22m`summarise()` has grouped output by 'Name', 'Sex', 'Sport'. You can override\n",
      "using the `.groups` argument.\n"
     ]
    },
    {
     "data": {
      "text/html": [
       "<table class=\"dataframe\">\n",
       "<caption>A grouped_df: 4 × 5</caption>\n",
       "<thead>\n",
       "\t<tr><th scope=col>Name</th><th scope=col>Sex</th><th scope=col>Sport</th><th scope=col>region</th><th scope=col>Medal</th></tr>\n",
       "\t<tr><th scope=col>&lt;chr&gt;</th><th scope=col>&lt;chr&gt;</th><th scope=col>&lt;chr&gt;</th><th scope=col>&lt;chr&gt;</th><th scope=col>&lt;int&gt;</th></tr>\n",
       "</thead>\n",
       "<tbody>\n",
       "\t<tr><td>Michael Fred Phelps, II           </td><td>M</td><td>Swimming  </td><td>USA   </td><td>28</td></tr>\n",
       "\t<tr><td>Larysa Semenivna Latynina (Diriy-)</td><td>F</td><td>Gymnastics</td><td>Russia</td><td>18</td></tr>\n",
       "\t<tr><td>Nikolay Yefimovich Andrianov      </td><td>M</td><td>Gymnastics</td><td>Russia</td><td>15</td></tr>\n",
       "\t<tr><td>Borys Anfiyanovych Shakhlin       </td><td>M</td><td>Gymnastics</td><td>Russia</td><td>13</td></tr>\n",
       "</tbody>\n",
       "</table>\n"
      ],
      "text/latex": [
       "A grouped\\_df: 4 × 5\n",
       "\\begin{tabular}{lllll}\n",
       " Name & Sex & Sport & region & Medal\\\\\n",
       " <chr> & <chr> & <chr> & <chr> & <int>\\\\\n",
       "\\hline\n",
       "\t Michael Fred Phelps, II            & M & Swimming   & USA    & 28\\\\\n",
       "\t Larysa Semenivna Latynina (Diriy-) & F & Gymnastics & Russia & 18\\\\\n",
       "\t Nikolay Yefimovich Andrianov       & M & Gymnastics & Russia & 15\\\\\n",
       "\t Borys Anfiyanovych Shakhlin        & M & Gymnastics & Russia & 13\\\\\n",
       "\\end{tabular}\n"
      ],
      "text/markdown": [
       "\n",
       "A grouped_df: 4 × 5\n",
       "\n",
       "| Name &lt;chr&gt; | Sex &lt;chr&gt; | Sport &lt;chr&gt; | region &lt;chr&gt; | Medal &lt;int&gt; |\n",
       "|---|---|---|---|---|\n",
       "| Michael Fred Phelps, II            | M | Swimming   | USA    | 28 |\n",
       "| Larysa Semenivna Latynina (Diriy-) | F | Gymnastics | Russia | 18 |\n",
       "| Nikolay Yefimovich Andrianov       | M | Gymnastics | Russia | 15 |\n",
       "| Borys Anfiyanovych Shakhlin        | M | Gymnastics | Russia | 13 |\n",
       "\n"
      ],
      "text/plain": [
       "  Name                               Sex Sport      region Medal\n",
       "1 Michael Fred Phelps, II            M   Swimming   USA    28   \n",
       "2 Larysa Semenivna Latynina (Diriy-) F   Gymnastics Russia 18   \n",
       "3 Nikolay Yefimovich Andrianov       M   Gymnastics Russia 15   \n",
       "4 Borys Anfiyanovych Shakhlin        M   Gymnastics Russia 13   "
      ]
     },
     "metadata": {},
     "output_type": "display_data"
    }
   ],
   "source": [
    "Athlete_names <- data1%>% group_by(Name,Sex,Sport,region) %>% summarize(Medal = n())%>% arrange(desc(Medal))%>%head(n=4)\n",
    "head(Athlete_names,5)"
   ]
  },
  {
   "cell_type": "code",
   "execution_count": null,
   "metadata": {
    "colab": {
     "base_uri": "https://localhost:8080/",
     "height": 437
    },
    "id": "bLrzXUyR-21t",
    "outputId": "65f6f6f7-aa41-47d1-a0b4-db2bb260e192"
   },
   "outputs": [
    {
     "data": {
      "image/png": "[encoded data removed]",
      "text/plain": [
       "plot without title"
      ]
     },
     "metadata": {
      "image/png": {
       "height": 420,
       "width": 420
      }
     },
     "output_type": "display_data"
    }
   ],
   "source": [
    "\n",
    "library(ggplot2)\n",
    "\n",
    "# Create a bar chart using ggplot2\n",
    "ggplot(Athlete_names, aes(x = Name, y = Medal, fill = Sport)) +\n",
    "  geom_bar(stat = \"identity\") +\n",
    "  labs(title = \"Total Medal\", x = \"region\", y = \"Medal\") +\n",
    "  theme(legend.position = \"none\",\n",
    "                     axis.text = element_text(size = 8,face=\"bold\"),\n",
    "        plot.title = element_text(size=25,face = \"bold\")) +\n",
    "  ggtitle(\"Sport vs Medal tally\")\n"
   ]
  },
  {
   "cell_type": "markdown",
   "metadata": {
    "id": "Zulq3bvLzrbp"
   },
   "source": [
    "#Summary"
   ]
  },
  {
   "cell_type": "markdown",
   "metadata": {
    "id": "YgoKJZxcz2j6"
   },
   "source": [
    "We have used a dataset of history of 120 years of olymics & was downloaded from keggle.com.\n",
    "From the above data analysis, it is found that country wise approach in finding athelete may not be fruitful since there are more than 10,000 medals won in top countries like USA, Russia, Germany etc. Selecting an athelete may not give exclusivity that is necessary in branding.\n",
    "Other criterias like sex, height, weight of athelete can not be given due consideration since they vary too much to draw meaningful insights.\n",
    "We therefore analyse and generate the data of athelets with the highest number of medal tally. & we can logically infer that these names represent the highest amount of efforts needed to excel at highest level repeatedly. They are therefore difficult to substitute."
   ]
  },
  {
   "cell_type": "code",
   "execution_count": null,
   "metadata": {
    "id": "5u9Vts2X2_MU"
   },
   "outputs": [],
   "source": []
  },
  {
   "cell_type": "markdown",
   "metadata": {
    "id": "sIBKmS5V34Jl"
   },
   "source": [
    "#Recommendations"
   ]
  },
  {
   "cell_type": "code",
   "execution_count": null,
   "metadata": {
    "colab": {
     "base_uri": "https://localhost:8080/",
     "height": 223
    },
    "id": "pDamGAQ-39T3",
    "outputId": "7256abfa-83e4-4900-a614-ad95df713342"
   },
   "outputs": [
    {
     "data": {
      "text/html": [
       "<table class=\"dataframe\">\n",
       "<caption>A grouped_df: 4 × 5</caption>\n",
       "<thead>\n",
       "\t<tr><th scope=col>Name</th><th scope=col>Sex</th><th scope=col>Sport</th><th scope=col>region</th><th scope=col>Medal</th></tr>\n",
       "\t<tr><th scope=col>&lt;chr&gt;</th><th scope=col>&lt;chr&gt;</th><th scope=col>&lt;chr&gt;</th><th scope=col>&lt;chr&gt;</th><th scope=col>&lt;int&gt;</th></tr>\n",
       "</thead>\n",
       "<tbody>\n",
       "\t<tr><td>Michael Fred Phelps, II           </td><td>M</td><td>Swimming  </td><td>USA   </td><td>28</td></tr>\n",
       "\t<tr><td>Larysa Semenivna Latynina (Diriy-)</td><td>F</td><td>Gymnastics</td><td>Russia</td><td>18</td></tr>\n",
       "\t<tr><td>Nikolay Yefimovich Andrianov      </td><td>M</td><td>Gymnastics</td><td>Russia</td><td>15</td></tr>\n",
       "\t<tr><td>Borys Anfiyanovych Shakhlin       </td><td>M</td><td>Gymnastics</td><td>Russia</td><td>13</td></tr>\n",
       "</tbody>\n",
       "</table>\n"
      ],
      "text/latex": [
       "A grouped\\_df: 4 × 5\n",
       "\\begin{tabular}{lllll}\n",
       " Name & Sex & Sport & region & Medal\\\\\n",
       " <chr> & <chr> & <chr> & <chr> & <int>\\\\\n",
       "\\hline\n",
       "\t Michael Fred Phelps, II            & M & Swimming   & USA    & 28\\\\\n",
       "\t Larysa Semenivna Latynina (Diriy-) & F & Gymnastics & Russia & 18\\\\\n",
       "\t Nikolay Yefimovich Andrianov       & M & Gymnastics & Russia & 15\\\\\n",
       "\t Borys Anfiyanovych Shakhlin        & M & Gymnastics & Russia & 13\\\\\n",
       "\\end{tabular}\n"
      ],
      "text/markdown": [
       "\n",
       "A grouped_df: 4 × 5\n",
       "\n",
       "| Name &lt;chr&gt; | Sex &lt;chr&gt; | Sport &lt;chr&gt; | region &lt;chr&gt; | Medal &lt;int&gt; |\n",
       "|---|---|---|---|---|\n",
       "| Michael Fred Phelps, II            | M | Swimming   | USA    | 28 |\n",
       "| Larysa Semenivna Latynina (Diriy-) | F | Gymnastics | Russia | 18 |\n",
       "| Nikolay Yefimovich Andrianov       | M | Gymnastics | Russia | 15 |\n",
       "| Borys Anfiyanovych Shakhlin        | M | Gymnastics | Russia | 13 |\n",
       "\n"
      ],
      "text/plain": [
       "  Name                               Sex Sport      region Medal\n",
       "1 Michael Fred Phelps, II            M   Swimming   USA    28   \n",
       "2 Larysa Semenivna Latynina (Diriy-) F   Gymnastics Russia 18   \n",
       "3 Nikolay Yefimovich Andrianov       M   Gymnastics Russia 15   \n",
       "4 Borys Anfiyanovych Shakhlin        M   Gymnastics Russia 13   "
      ]
     },
     "metadata": {},
     "output_type": "display_data"
    }
   ],
   "source": [
    "Athlete_names"
   ]
  },
  {
   "cell_type": "markdown",
   "metadata": {
    "id": "O1sgkJ9l4F-_"
   },
   "source": [
    "We therefore recommend the set of 4 atheletes to choose from to get sponsored by Kellogg's because they have proved themselves repeatedly at highest level of the games. They therefore provide unique mix of popularity, exclusivity & eternity which suits the brand Kellogg's in terms of gaining more sales & popularity besides more probablity to win a medal again !"
   ]
  },
  {
   "cell_type": "code",
   "execution_count": null,
   "metadata": {
    "id": "I8wEnidD7nTB"
   },
   "outputs": [],
   "source": []
  }
 ],
 "metadata": {
  "colab": {
   "provenance": []
  },
  "kernelspec": {
   "display_name": "Python 3 (ipykernel)",
   "language": "python",
   "name": "python3"
  },
  "language_info": {
   "codemirror_mode": {
    "name": "ipython",
    "version": 3
   },
   "file_extension": ".py",
   "mimetype": "text/x-python",
   "name": "python",
   "nbconvert_exporter": "python",
   "pygments_lexer": "ipython3",
   "version": "3.11.4"
  }
 },
 "nbformat": 4,
 "nbformat_minor": 1
}
